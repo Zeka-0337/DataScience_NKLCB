{
 "cells": [
  {
   "cell_type": "markdown",
   "metadata": {},
   "source": [
    "# 텍스트파일"
   ]
  },
  {
   "cell_type": "markdown",
   "metadata": {},
   "source": [
    "## 파일 쓰기 : open('경로', 'w')"
   ]
  },
  {
   "cell_type": "markdown",
   "metadata": {},
   "source": [
    "기본함수\n",
    "- open, read or write, close\n",
    "파일쓰기\n",
    "- write()함수를 이용한 파일에 문자열 쓰기\n",
    "- open(경로, '읽기 or 쓰기')"
   ]
  },
  {
   "cell_type": "code",
   "execution_count": 16,
   "metadata": {
    "ExecuteTime": {
     "end_time": "2021-10-15T03:06:01.963346Z",
     "start_time": "2021-10-15T03:06:01.951089Z"
    }
   },
   "outputs": [
    {
     "name": "stdout",
     "output_type": "stream",
     "text": [
      "strCnt : 12\n"
     ]
    }
   ],
   "source": [
    "# 파일이 없으면 생성\n",
    "# 파일이 이미 있으면 덮어쓰기\n",
    "file = open('C:/PythonTxt/test.txt', 'w')\n",
    "\n",
    "strCnt = file.write('Hello World!')\n",
    "print('strCnt : {}'.format(strCnt))\n",
    "\n",
    "file.close()"
   ]
  },
  {
   "cell_type": "code",
   "execution_count": 17,
   "metadata": {
    "ExecuteTime": {
     "end_time": "2021-10-15T03:06:09.134385Z",
     "start_time": "2021-10-15T03:06:03.419279Z"
    }
   },
   "outputs": [
    {
     "name": "stdout",
     "output_type": "stream",
     "text": [
      "오늘 일정 입력 : 미적분, 네카라쿠배\n"
     ]
    }
   ],
   "source": [
    "import time\n",
    "\n",
    "lt = time.localtime()\n",
    "# dateStr = '[{}년 {}월 {}일]'.format(lt.tm_year, lt.tm_mon, lt.tm_mday)\n",
    "dateStr = time.strftime('%Y-%m-%d %I:%M:%S %p')\n",
    "# m과 M의 차이 : 월과 분 / p는 AM PM 표시 \n",
    "# H 24시 단위대신에 I 사용시에 12시 단위\n",
    "todayWork = input('오늘 일정 입력 : ')\n",
    "\n",
    "file = open('C:/PythonTxt/test.txt', 'w')\n",
    "file.write('[' + dateStr +'] '+ todayWork)\n",
    "\n",
    "file.close()"
   ]
  },
  {
   "cell_type": "markdown",
   "metadata": {},
   "source": [
    "## 파일 읽기 :  open('경로', 'r')"
   ]
  },
  {
   "cell_type": "code",
   "execution_count": 18,
   "metadata": {
    "ExecuteTime": {
     "end_time": "2021-10-15T03:06:10.886329Z",
     "start_time": "2021-10-15T03:06:10.861063Z"
    }
   },
   "outputs": [
    {
     "name": "stdout",
     "output_type": "stream",
     "text": [
      "content : [2021-10-15 12:06:03 PM] 미적분, 네카라쿠배\n"
     ]
    }
   ],
   "source": [
    "file = open('C:/PythonTxt/test.txt', 'r')\n",
    "\n",
    "content = file.read()\n",
    "print('content : {}'.format(content))\n",
    "\n",
    "file.close()"
   ]
  },
  {
   "cell_type": "code",
   "execution_count": 20,
   "metadata": {
    "ExecuteTime": {
     "end_time": "2021-10-15T03:12:15.986981Z",
     "start_time": "2021-10-15T03:12:15.972589Z"
    }
   },
   "outputs": [
    {
     "name": "stdout",
     "output_type": "stream",
     "text": [
      "content : 파이썬[3](영어: Python)은 1991년[4] 프로그래머인 귀도 반 로섬[5]이 발표한 고급 프로그래밍 언어로, 플랫폼에 독립적이며 인터프리터식, 객체지향적, 동적 타이핑(dynamically typed) 대화형 언어이다. 파이썬이라는 이름은 귀도가 좋아하는 코미디 〈Monty Python's Flying Circus〉에서 따온 것이다.\n",
      "content : 파이썬[3](영어: 파이썬)은 1991년[4] 프로그래머인 귀도 반 로섬[5]이 발표한 고급 프로그래밍 언어로, 플랫폼에 독립적이며 인터프리터식, 객체지향적, 동적 타이핑(dynamically typed) 대화형 언어이다. 파이썬이라는 이름은 귀도가 좋아하는 코미디 〈Monty Python's Flying Circus〉에서 따온 것이다.\n"
     ]
    }
   ],
   "source": [
    "# cp949 error : 인코딩 문제\n",
    "file = open('C:/PythonTxt/About_python.txt', 'r', encoding='utf-8')\n",
    "\n",
    "content = file.read()\n",
    "print('content : {}'.format(content))\n",
    "\n",
    "# 인수로 바꿀 개수를 지정할 수 있디.\n",
    "content = content.replace('Python', '파이썬', 1)\n",
    "print('content : {}'.format(content))\n",
    "file.close()\n",
    "\n",
    "file = open('C:/PythonTxt/About_python.txt', 'w', encoding='utf-8')\n",
    "\n",
    "file.write(content)\n",
    "file.close()"
   ]
  },
  {
   "cell_type": "markdown",
   "metadata": {},
   "source": [
    "## 파일 모드 : w, a, x, r"
   ]
  },
  {
   "cell_type": "markdown",
   "metadata": {},
   "source": [
    "- w : 쓰기 전용, 덮어씌움\n",
    "- a : 쓰기 전용, 덧붙임\n",
    "- x : 쓰기 전용, 이미 존재하면 에러남\n",
    "     - FileExistError()\n",
    "- r : 읽기 전용, 없으면 에러남\n",
    "    - file.read() 사용시, 모두 문자열로 인식함"
   ]
  },
  {
   "cell_type": "code",
   "execution_count": 27,
   "metadata": {
    "ExecuteTime": {
     "end_time": "2021-10-15T03:35:25.166538Z",
     "start_time": "2021-10-15T03:35:25.148108Z"
    }
   },
   "outputs": [],
   "source": [
    "uri = 'C:/PythonTxt/'\n",
    "\n",
    "def writePrimeNumber(n):\n",
    "    file = open(uri + 'prime_numbers.txt', 'a')\n",
    "    # int 타입의 n을 그냥 넣을 수 없기에, str으로 캐스팅 필요\n",
    "    file.write(solution(n))\n",
    "    file.close()\n",
    "def solution(n):\n",
    "    arr = [True] * (n+1)\n",
    "    \n",
    "    for i in range(2,int(np.sqrt(n) +1)):\n",
    "        if arr[i] == True:\n",
    "            j = 2\n",
    "            \n",
    "\n",
    "            while i*j<=n:\n",
    "                arr[i*j] = False\n",
    "                j+=1\n",
    "    prime = ''\n",
    "    for i in range(2,len(arr)):\n",
    "        if arr[i] == True:\n",
    "            prime = prime + '{}\\n'.format(i)\n",
    "    return prime"
   ]
  },
  {
   "cell_type": "code",
   "execution_count": 31,
   "metadata": {
    "ExecuteTime": {
     "end_time": "2021-10-15T03:37:34.327389Z",
     "start_time": "2021-10-15T03:37:31.869319Z"
    }
   },
   "outputs": [],
   "source": [
    "writePrimeNumber(1000000)"
   ]
  },
  {
   "cell_type": "markdown",
   "metadata": {},
   "source": [
    "## with~as문 : close를 생략할 수 있다."
   ]
  },
  {
   "cell_type": "markdown",
   "metadata": {},
   "source": [
    "## writelines : 반복가능한 객체의 내용물들을 쓰기"
   ]
  },
  {
   "cell_type": "code",
   "execution_count": 36,
   "metadata": {
    "ExecuteTime": {
     "end_time": "2021-10-15T03:50:08.917104Z",
     "start_time": "2021-10-15T03:50:08.889490Z"
    }
   },
   "outputs": [],
   "source": [
    "members = ['태용','재현','쟈니','유타','해찬']\n",
    "\n",
    "uri = 'C:/PythonTxt/'\n",
    "\n",
    "for member in members:\n",
    "    with open(uri + 'members.txt', 'a') as f:\n",
    "        f.write(member)\n",
    "        f.write('\\n')\n",
    "        \n",
    "with open(uri + 'members.txt', 'w') as f:\n",
    "    f.writelines(member + '\\n' for member in members)"
   ]
  },
  {
   "cell_type": "markdown",
   "metadata": {},
   "source": [
    "## readlines(), readline()\n",
    "- readlines() : 파일의 모든 데이터를 읽어서 리스트 형태로 반환, 끝에 '\\n'.\n",
    "- readline() : 파일의 한줄 한줄을 읽어서 반환, 끝에 \\n이 있음\n"
   ]
  },
  {
   "cell_type": "code",
   "execution_count": 40,
   "metadata": {
    "ExecuteTime": {
     "end_time": "2021-10-15T03:52:45.055438Z",
     "start_time": "2021-10-15T03:52:45.037690Z"
    }
   },
   "outputs": [
    {
     "name": "stdout",
     "output_type": "stream",
     "text": [
      "memList : ['태용\\n', '재현\\n', '쟈니\\n', '유타\\n', '해찬\\n']\n",
      "태용\n",
      "\n",
      "한줄 더 띄워져서 출력되는 것을 확인\n"
     ]
    }
   ],
   "source": [
    "with open(uri + 'members.txt', 'r') as f:\n",
    "    memList = f.readlines()\n",
    "print('memList : {}'.format(memList))\n",
    "print(memList[0])\n",
    "print('한줄 더 띄워져서 출력되는 것을 확인')"
   ]
  },
  {
   "cell_type": "code",
   "execution_count": 41,
   "metadata": {
    "ExecuteTime": {
     "end_time": "2021-10-15T03:52:59.033435Z",
     "start_time": "2021-10-15T03:52:59.017393Z"
    }
   },
   "outputs": [
    {
     "name": "stdout",
     "output_type": "stream",
     "text": [
      "line : 태용\n",
      "\n",
      "한줄 더 띄워져서 출력되는 것을 확인\n",
      "line : 재현\n",
      "\n",
      "한줄 더 띄워져서 출력되는 것을 확인\n",
      "line : 쟈니\n",
      "\n",
      "한줄 더 띄워져서 출력되는 것을 확인\n",
      "line : 유타\n",
      "\n",
      "한줄 더 띄워져서 출력되는 것을 확인\n",
      "line : 해찬\n",
      "\n",
      "한줄 더 띄워져서 출력되는 것을 확인\n"
     ]
    }
   ],
   "source": [
    "with open(uri + 'members.txt', 'r') as f:\n",
    "    line = f.readline()\n",
    "    \n",
    "    while line != '':\n",
    "        print('line : {}'.format(line))\n",
    "        print('한줄 더 띄워져서 출력되는 것을 확인')\n",
    "        line = f.readline()"
   ]
  }
 ],
 "metadata": {
  "kernelspec": {
   "display_name": "Python 3",
   "language": "python",
   "name": "python3"
  },
  "language_info": {
   "codemirror_mode": {
    "name": "ipython",
    "version": 3
   },
   "file_extension": ".py",
   "mimetype": "text/x-python",
   "name": "python",
   "nbconvert_exporter": "python",
   "pygments_lexer": "ipython3",
   "version": "3.8.8"
  },
  "toc": {
   "base_numbering": 1,
   "nav_menu": {},
   "number_sections": false,
   "sideBar": true,
   "skip_h1_title": false,
   "title_cell": "Table of Contents",
   "title_sidebar": "Contents",
   "toc_cell": false,
   "toc_position": {},
   "toc_section_display": true,
   "toc_window_display": false
  }
 },
 "nbformat": 4,
 "nbformat_minor": 4
}
