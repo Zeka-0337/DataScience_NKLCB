{
 "cells": [
  {
   "cell_type": "markdown",
   "metadata": {},
   "source": [
    "# 최근 영화 평점 분석, 그런데 이제 웹크롤링을 곁들인"
   ]
  },
  {
   "cell_type": "markdown",
   "metadata": {},
   "source": [
    "최근에 배운 데이터 긁어오기(유사 웹크롤링)을 이용해서 영화 평점을 분석하고,\n",
    "\n",
    "내가 좋아하는 영화들의 평점 추이를 살펴보도록 하자!\n",
    "\n",
    "```추신 : 재미로 한거니, 그냥 이 사람이 이런걸 배워서 써먹어보는거구나~ 하고 봐주세요!```"
   ]
  },
  {
   "cell_type": "markdown",
   "metadata": {},
   "source": [
    "## 1. 네이버 영화 사이트 분석"
   ]
  },
  {
   "cell_type": "markdown",
   "metadata": {},
   "source": [
    "네이버 영화 사이트를 통해서, 최근 100일간의 영화 평점을 긁어와서 분석을 해보도록 하자!"
   ]
  },
  {
   "cell_type": "code",
   "execution_count": 2,
   "metadata": {},
   "outputs": [],
   "source": [
    "# requirements\n",
    "import pandas as pd\n",
    "from urllib.request import urlopen\n",
    "from bs4 import BeautifulSoup"
   ]
  },
  {
   "cell_type": "markdown",
   "metadata": {},
   "source": [
    "##### BeautifulSoup을 이용해서 내용을 불러오자"
   ]
  },
  {
   "cell_type": "code",
   "execution_count": 3,
   "metadata": {},
   "outputs": [
    {
     "data": {
      "text/plain": [
       "200"
      ]
     },
     "execution_count": 3,
     "metadata": {},
     "output_type": "execute_result"
    }
   ],
   "source": [
    "url = 'https://movie.naver.com/movie/sdb/rank/rmovie.naver?sel=cur&date=20210929'\n",
    "response = urlopen(url)\n",
    "soup = BeautifulSoup(response, 'html.parser')\n",
    "response.status  # 200번대면 정상이라는 소리다!\n",
    "# print(soup.prettify())"
   ]
  },
  {
   "cell_type": "markdown",
   "metadata": {},
   "source": [
    "네이버 영화 사이트에 들어가서, F12를 이용해 제목과 평점이 들어간 태그와 클래스를 조사해봤더니.."
   ]
  },
  {
   "cell_type": "code",
   "execution_count": 4,
   "metadata": {},
   "outputs": [
    {
     "data": {
      "text/plain": [
       "('밥정', '9.63')"
      ]
     },
     "execution_count": 4,
     "metadata": {},
     "output_type": "execute_result"
    }
   ],
   "source": [
    "# 영화 제목, 평점 태그\n",
    "soup.find_all(\"div\", class_='tit5')[0].a.string, soup.find_all('td',class_= 'point')[0].string"
   ]
  },
  {
   "cell_type": "code",
   "execution_count": 5,
   "metadata": {},
   "outputs": [
    {
     "data": {
      "text/plain": [
       "(47, 47)"
      ]
     },
     "execution_count": 5,
     "metadata": {},
     "output_type": "execute_result"
    }
   ],
   "source": [
    "# 영화 제목과 평점의 개수 확인\n",
    "len(soup.find_all(\"div\", class_='tit5')), len(soup.find_all('td',class_= 'point'))"
   ]
  },
  {
   "cell_type": "markdown",
   "metadata": {},
   "source": [
    "잘 긁어와진 것 같다!"
   ]
  },
  {
   "cell_type": "markdown",
   "metadata": {},
   "source": [
    "##### 영화 제목과 평점 리스트"
   ]
  },
  {
   "cell_type": "code",
   "execution_count": 6,
   "metadata": {},
   "outputs": [
    {
     "data": {
      "text/plain": [
       "(['밥정', '원더', '코다', '해리 포터와 마법사의 돌', '기적'],\n",
       " ['9.63',\n",
       "  '9.53',\n",
       "  '9.35',\n",
       "  '9.35',\n",
       "  '9.29',\n",
       "  '9.24',\n",
       "  '9.22',\n",
       "  '9.19',\n",
       "  '9.17',\n",
       "  '9.11'])"
      ]
     },
     "execution_count": 6,
     "metadata": {},
     "output_type": "execute_result"
    }
   ],
   "source": [
    "end = len(soup.find_all(\"div\", class_ = \"tit5\"))\n",
    "movie_name = [soup.find_all(\"div\", class_=\"tit5\")[n].a.string \n",
    "              for n in range(0,end)]\n",
    "\n",
    "end = len(soup.find_all('td', class_='point'))\n",
    "movie_point = [soup.find_all('td', class_='point')[n].string\n",
    "              for n in range(0,end)]\n",
    "\n",
    "movie_name[:5], movie_point[:10]"
   ]
  },
  {
   "cell_type": "markdown",
   "metadata": {},
   "source": [
    "## 2. 자동화를 위한 코드"
   ]
  },
  {
   "cell_type": "markdown",
   "metadata": {},
   "source": [
    "```\n",
    "'https://movie.naver.com/movie/sdb/rank/rmovie.naver?sel=cur&date=20210929'\n",
    "\n",
    "```\n",
    "- 날짜만 변경하면 우리가 원하는 기간 만큼 데이터를 얻을 수 있다!"
   ]
  },
  {
   "cell_type": "markdown",
   "metadata": {},
   "source": [
    "오늘을 기준으로 최근 100일 간의 데이터를 불러와보자!"
   ]
  },
  {
   "cell_type": "code",
   "execution_count": 7,
   "metadata": {},
   "outputs": [
    {
     "data": {
      "text/plain": [
       "DatetimeIndex(['2021-06-22', '2021-06-23', '2021-06-24', '2021-06-25',\n",
       "               '2021-06-26'],\n",
       "              dtype='datetime64[ns]', freq='D')"
      ]
     },
     "execution_count": 7,
     "metadata": {},
     "output_type": "execute_result"
    }
   ],
   "source": [
    "date = pd.date_range('2021.06.22', periods=100, freq=\"D\")\n",
    "date[:5]"
   ]
  },
  {
   "cell_type": "markdown",
   "metadata": {},
   "source": [
    "이제 이 날짜들을 주소 맨 뒤에 YYYYMMDD 자리에 넣어야 하는데,,,"
   ]
  },
  {
   "cell_type": "code",
   "execution_count": 8,
   "metadata": {},
   "outputs": [
    {
     "data": {
      "text/plain": [
       "Timestamp('2021-06-22 00:00:00', freq='D')"
      ]
     },
     "execution_count": 8,
     "metadata": {},
     "output_type": "execute_result"
    }
   ],
   "source": [
    "date[0]"
   ]
  },
  {
   "cell_type": "markdown",
   "metadata": {},
   "source": [
    "출력해보면, 원하는 형태가 아니다"
   ]
  },
  {
   "cell_type": "markdown",
   "metadata": {},
   "source": [
    "##### strftime (string from time)을 통해서 원하는 모양의 str타입으로 변환시키자!"
   ]
  },
  {
   "cell_type": "code",
   "execution_count": 9,
   "metadata": {},
   "outputs": [
    {
     "data": {
      "text/plain": [
       "('2021-06-22', '2021.06.22')"
      ]
     },
     "execution_count": 9,
     "metadata": {},
     "output_type": "execute_result"
    }
   ],
   "source": [
    "date[0].strftime(\"%Y-%m-%d\"), date[0].strftime(\"%Y.%m.%d\")"
   ]
  },
  {
   "cell_type": "markdown",
   "metadata": {},
   "source": [
    "##### 위처럼 만들어놓은 날짜를, 주소에 입력하기 위해 문자열 formatting 기능을 사용해보자!"
   ]
  },
  {
   "cell_type": "code",
   "execution_count": 10,
   "metadata": {},
   "outputs": [
    {
     "data": {
      "text/plain": [
       "\"Hello, I'm Taeoxo\""
      ]
     },
     "execution_count": 10,
     "metadata": {},
     "output_type": "execute_result"
    }
   ],
   "source": [
    "# 문자열 format 예시\n",
    "\n",
    "test_string = \"Hello, I'm {name}\"\n",
    "test_string.format(name = 'Taeoxo')"
   ]
  },
  {
   "cell_type": "markdown",
   "metadata": {},
   "source": [
    "##### 이제 위에서 구한 날짜와, for문을 이용해서 100일간의 영화제목, 평점을 긁어오자"
   ]
  },
  {
   "cell_type": "code",
   "execution_count": 11,
   "metadata": {},
   "outputs": [
    {
     "name": "stderr",
     "output_type": "stream",
     "text": [
      "100%|████████████████████████████████████████████████████████████████████████████████| 100/100 [01:34<00:00,  1.06it/s]\n"
     ]
    }
   ],
   "source": [
    "import time\n",
    "from tqdm import tqdm\n",
    "\n",
    "movie_date = []\n",
    "movie_name = []\n",
    "movie_point = []\n",
    "\n",
    "for today in tqdm(date):\n",
    "    url = \"https://movie.naver.com/movie/sdb/rank/rmovie.naver?sel=cur&date={date}\"\n",
    "    response = urlopen(url.format(date=today.strftime('%Y%m%d')))\n",
    "    soup = BeautifulSoup(response, 'html.parser')\n",
    "    \n",
    "    end = len(soup.find_all('div', class_='tit5'))\n",
    "    # name과 point 둘다 확인해야하지만, 통상적으로 같으니 하나로!\n",
    "    \n",
    "    movie_date.extend([today.strftime(\"%Y-%m-%d\") for _ in range(0,end)])\n",
    "    movie_name.extend([soup.find_all('div','tit5')[n].a.string \n",
    "                       for n in range(0,end)])\n",
    "    movie_point.extend([soup.find_all('td','point')[n].string\n",
    "                       for n in range(0,end)])\n",
    "    # 크롤링 시에, 너무 빠른 속도로 데이터를 요청하면\n",
    "    # 사람이 아닌, 기계의 인위적 접속(사실 맞지만,,,)으로 판단해 차단할 수도 있기에\n",
    "    # time.sleep()을 통해 약간의 term을 두는 것이 중요하다!\n",
    "    time.sleep(0.5)\n",
    "    \n",
    "    \n"
   ]
  },
  {
   "cell_type": "markdown",
   "metadata": {},
   "source": [
    "##### 데이터를 모아온 후에는, 데이터의 길이와 일부를 확인해 제대로 모였는지 확인한다.\n"
   ]
  },
  {
   "cell_type": "code",
   "execution_count": 12,
   "metadata": {},
   "outputs": [
    {
     "data": {
      "text/plain": [
       "(4499, 4499, 4499)"
      ]
     },
     "execution_count": 12,
     "metadata": {},
     "output_type": "execute_result"
    }
   ],
   "source": [
    "len(movie_date), len(movie_name), len(movie_point)"
   ]
  },
  {
   "cell_type": "code",
   "execution_count": 13,
   "metadata": {},
   "outputs": [
    {
     "data": {
      "text/plain": [
       "(['9.43', '9.30', '9.30', '9.28', '9.19'],\n",
       " ['덕구', '부활: 그 증거', '크루엘라', '극장판 귀멸의 칼날: 무한열차편', '해피 투게더'])"
      ]
     },
     "execution_count": 13,
     "metadata": {},
     "output_type": "execute_result"
    }
   ],
   "source": [
    "movie_point[:5], movie_name[:5]"
   ]
  },
  {
   "cell_type": "code",
   "execution_count": 14,
   "metadata": {},
   "outputs": [
    {
     "data": {
      "text/html": [
       "<div>\n",
       "<style scoped>\n",
       "    .dataframe tbody tr th:only-of-type {\n",
       "        vertical-align: middle;\n",
       "    }\n",
       "\n",
       "    .dataframe tbody tr th {\n",
       "        vertical-align: top;\n",
       "    }\n",
       "\n",
       "    .dataframe thead th {\n",
       "        text-align: right;\n",
       "    }\n",
       "</style>\n",
       "<table border=\"1\" class=\"dataframe\">\n",
       "  <thead>\n",
       "    <tr style=\"text-align: right;\">\n",
       "      <th></th>\n",
       "      <th>date</th>\n",
       "      <th>name</th>\n",
       "      <th>point</th>\n",
       "    </tr>\n",
       "  </thead>\n",
       "  <tbody>\n",
       "    <tr>\n",
       "      <th>4494</th>\n",
       "      <td>2021-09-29</td>\n",
       "      <td>인질</td>\n",
       "      <td>7.33</td>\n",
       "    </tr>\n",
       "    <tr>\n",
       "      <th>4495</th>\n",
       "      <td>2021-09-29</td>\n",
       "      <td>말리그넌트</td>\n",
       "      <td>7.25</td>\n",
       "    </tr>\n",
       "    <tr>\n",
       "      <th>4496</th>\n",
       "      <td>2021-09-29</td>\n",
       "      <td>샹치와 텐 링즈의 전설</td>\n",
       "      <td>6.59</td>\n",
       "    </tr>\n",
       "    <tr>\n",
       "      <th>4497</th>\n",
       "      <td>2021-09-29</td>\n",
       "      <td>싱크홀</td>\n",
       "      <td>6.55</td>\n",
       "    </tr>\n",
       "    <tr>\n",
       "      <th>4498</th>\n",
       "      <td>2021-09-29</td>\n",
       "      <td>쏘아올린 불꽃, 밑에서 볼까? 옆에서 볼까?</td>\n",
       "      <td>6.51</td>\n",
       "    </tr>\n",
       "  </tbody>\n",
       "</table>\n",
       "</div>"
      ],
      "text/plain": [
       "            date                      name point\n",
       "4494  2021-09-29                        인질  7.33\n",
       "4495  2021-09-29                     말리그넌트  7.25\n",
       "4496  2021-09-29              샹치와 텐 링즈의 전설  6.59\n",
       "4497  2021-09-29                       싱크홀  6.55\n",
       "4498  2021-09-29  쏘아올린 불꽃, 밑에서 볼까? 옆에서 볼까?  6.51"
      ]
     },
     "execution_count": 14,
     "metadata": {},
     "output_type": "execute_result"
    }
   ],
   "source": [
    "# 데이터프레임으로 변환!\n",
    "movie = pd.DataFrame({\n",
    "    \"date\" : movie_date,\n",
    "    'name' : movie_name,\n",
    "    'point' : movie_point\n",
    "})\n",
    "movie.tail()"
   ]
  },
  {
   "cell_type": "code",
   "execution_count": 15,
   "metadata": {
    "scrolled": true
   },
   "outputs": [
    {
     "name": "stdout",
     "output_type": "stream",
     "text": [
      "<class 'pandas.core.frame.DataFrame'>\n",
      "RangeIndex: 4499 entries, 0 to 4498\n",
      "Data columns (total 3 columns):\n",
      " #   Column  Non-Null Count  Dtype \n",
      "---  ------  --------------  ----- \n",
      " 0   date    4499 non-null   object\n",
      " 1   name    4499 non-null   object\n",
      " 2   point   4499 non-null   object\n",
      "dtypes: object(3)\n",
      "memory usage: 105.6+ KB\n"
     ]
    }
   ],
   "source": [
    "# pd.DataFrame.info()로 확인을 해보자\n",
    "movie.info()"
   ]
  },
  {
   "cell_type": "markdown",
   "metadata": {},
   "source": [
    "##### point는 평점인데, 데이터타입이 float가 아니라 object이다. 변경하자!"
   ]
  },
  {
   "cell_type": "code",
   "execution_count": 16,
   "metadata": {},
   "outputs": [
    {
     "name": "stdout",
     "output_type": "stream",
     "text": [
      "<class 'pandas.core.frame.DataFrame'>\n",
      "RangeIndex: 4499 entries, 0 to 4498\n",
      "Data columns (total 3 columns):\n",
      " #   Column  Non-Null Count  Dtype  \n",
      "---  ------  --------------  -----  \n",
      " 0   date    4499 non-null   object \n",
      " 1   name    4499 non-null   object \n",
      " 2   point   4499 non-null   float64\n",
      "dtypes: float64(1), object(2)\n",
      "memory usage: 105.6+ KB\n"
     ]
    }
   ],
   "source": [
    "movie['point'] = movie['point'].astype(float)\n",
    "movie.info()"
   ]
  },
  {
   "cell_type": "markdown",
   "metadata": {},
   "source": [
    "## 3. 영화 평점 데이터 정리"
   ]
  },
  {
   "cell_type": "markdown",
   "metadata": {},
   "source": [
    "- pivot_table을 통해 영화별 평균평점을 정리해보기\n",
    "- 100일 간 네이버 영화 평점 평균 기준 Best & Worst 10 선정하기!\n",
    "- 내가 좋아하는 영화들의 평점 변화 살펴보기!"
   ]
  },
  {
   "cell_type": "code",
   "execution_count": 27,
   "metadata": {},
   "outputs": [
    {
     "data": {
      "text/html": [
       "<div>\n",
       "<style scoped>\n",
       "    .dataframe tbody tr th:only-of-type {\n",
       "        vertical-align: middle;\n",
       "    }\n",
       "\n",
       "    .dataframe tbody tr th {\n",
       "        vertical-align: top;\n",
       "    }\n",
       "\n",
       "    .dataframe thead th {\n",
       "        text-align: right;\n",
       "    }\n",
       "</style>\n",
       "<table border=\"1\" class=\"dataframe\">\n",
       "  <thead>\n",
       "    <tr style=\"text-align: right;\">\n",
       "      <th></th>\n",
       "      <th>평점 평균</th>\n",
       "      <th>평점 표준편차</th>\n",
       "    </tr>\n",
       "  </thead>\n",
       "  <tbody>\n",
       "    <tr>\n",
       "      <th>007 노 타임 투 다이</th>\n",
       "      <td>7.89</td>\n",
       "      <td>NaN</td>\n",
       "    </tr>\n",
       "    <tr>\n",
       "      <th>13 구역</th>\n",
       "      <td>8.70</td>\n",
       "      <td>0.0</td>\n",
       "    </tr>\n",
       "    <tr>\n",
       "      <th>47 미터</th>\n",
       "      <td>7.27</td>\n",
       "      <td>0.0</td>\n",
       "    </tr>\n",
       "    <tr>\n",
       "      <th>500일의 썸머</th>\n",
       "      <td>8.43</td>\n",
       "      <td>0.0</td>\n",
       "    </tr>\n",
       "    <tr>\n",
       "      <th>69세</th>\n",
       "      <td>8.64</td>\n",
       "      <td>0.0</td>\n",
       "    </tr>\n",
       "  </tbody>\n",
       "</table>\n",
       "</div>"
      ],
      "text/plain": [
       "               평점 평균  평점 표준편차\n",
       "007 노 타임 투 다이   7.89      NaN\n",
       "13 구역           8.70      0.0\n",
       "47 미터           7.27      0.0\n",
       "500일의 썸머        8.43      0.0\n",
       "69세             8.64      0.0"
      ]
     },
     "execution_count": 27,
     "metadata": {},
     "output_type": "execute_result"
    }
   ],
   "source": [
    "# pivot table\n",
    "movie_unique = pd.pivot_table(data = movie, index = 'name', aggfunc = [np.mean, np.std])\n",
    "movie_unique.columns = ['평점 평균', '평점 표준편차']\n",
    "movie_unique.head()"
   ]
  },
  {
   "cell_type": "markdown",
   "metadata": {},
   "source": [
    "##### "
   ]
  },
  {
   "cell_type": "code",
   "execution_count": 29,
   "metadata": {
    "scrolled": false
   },
   "outputs": [
    {
     "data": {
      "text/html": [
       "<div>\n",
       "<style scoped>\n",
       "    .dataframe tbody tr th:only-of-type {\n",
       "        vertical-align: middle;\n",
       "    }\n",
       "\n",
       "    .dataframe tbody tr th {\n",
       "        vertical-align: top;\n",
       "    }\n",
       "\n",
       "    .dataframe thead th {\n",
       "        text-align: right;\n",
       "    }\n",
       "</style>\n",
       "<table border=\"1\" class=\"dataframe\">\n",
       "  <thead>\n",
       "    <tr style=\"text-align: right;\">\n",
       "      <th></th>\n",
       "      <th>평점 평균</th>\n",
       "      <th>평점 표준편차</th>\n",
       "    </tr>\n",
       "  </thead>\n",
       "  <tbody>\n",
       "    <tr>\n",
       "      <th>밥정</th>\n",
       "      <td>9.626667</td>\n",
       "      <td>0.008165</td>\n",
       "    </tr>\n",
       "    <tr>\n",
       "      <th>가버나움</th>\n",
       "      <td>9.590000</td>\n",
       "      <td>0.000000</td>\n",
       "    </tr>\n",
       "    <tr>\n",
       "      <th>원더</th>\n",
       "      <td>9.530000</td>\n",
       "      <td>0.000000</td>\n",
       "    </tr>\n",
       "    <tr>\n",
       "      <th>덕구</th>\n",
       "      <td>9.430000</td>\n",
       "      <td>0.000000</td>\n",
       "    </tr>\n",
       "    <tr>\n",
       "      <th>코다</th>\n",
       "      <td>9.369130</td>\n",
       "      <td>0.020206</td>\n",
       "    </tr>\n",
       "    <tr>\n",
       "      <th>해리 포터와 마법사의 돌</th>\n",
       "      <td>9.349375</td>\n",
       "      <td>0.002500</td>\n",
       "    </tr>\n",
       "    <tr>\n",
       "      <th>피아니스트</th>\n",
       "      <td>9.330000</td>\n",
       "      <td>0.000000</td>\n",
       "    </tr>\n",
       "    <tr>\n",
       "      <th>자산어보</th>\n",
       "      <td>9.324286</td>\n",
       "      <td>0.011339</td>\n",
       "    </tr>\n",
       "    <tr>\n",
       "      <th>언더독</th>\n",
       "      <td>9.320000</td>\n",
       "      <td>0.000000</td>\n",
       "    </tr>\n",
       "    <tr>\n",
       "      <th>모던 타임즈</th>\n",
       "      <td>9.320000</td>\n",
       "      <td>0.000000</td>\n",
       "    </tr>\n",
       "  </tbody>\n",
       "</table>\n",
       "</div>"
      ],
      "text/plain": [
       "                  평점 평균   평점 표준편차\n",
       "밥정             9.626667  0.008165\n",
       "가버나움           9.590000  0.000000\n",
       "원더             9.530000  0.000000\n",
       "덕구             9.430000  0.000000\n",
       "코다             9.369130  0.020206\n",
       "해리 포터와 마법사의 돌  9.349375  0.002500\n",
       "피아니스트          9.330000  0.000000\n",
       "자산어보           9.324286  0.011339\n",
       "언더독            9.320000  0.000000\n",
       "모던 타임즈         9.320000  0.000000"
      ]
     },
     "execution_count": 29,
     "metadata": {},
     "output_type": "execute_result"
    }
   ],
   "source": [
    "# Best 10\n",
    "movie_best = movie_unique.sort_values(by = '평점 평균', ascending=False)\n",
    "movie_best.head(10)"
   ]
  },
  {
   "cell_type": "code",
   "execution_count": 30,
   "metadata": {},
   "outputs": [
    {
     "data": {
      "text/html": [
       "<div>\n",
       "<style scoped>\n",
       "    .dataframe tbody tr th:only-of-type {\n",
       "        vertical-align: middle;\n",
       "    }\n",
       "\n",
       "    .dataframe tbody tr th {\n",
       "        vertical-align: top;\n",
       "    }\n",
       "\n",
       "    .dataframe thead th {\n",
       "        text-align: right;\n",
       "    }\n",
       "</style>\n",
       "<table border=\"1\" class=\"dataframe\">\n",
       "  <thead>\n",
       "    <tr style=\"text-align: right;\">\n",
       "      <th></th>\n",
       "      <th>평점 평균</th>\n",
       "      <th>평점 표준편차</th>\n",
       "    </tr>\n",
       "  </thead>\n",
       "  <tbody>\n",
       "    <tr>\n",
       "      <th>킹 오브 프리즘 -샤이니 세븐 스타즈-</th>\n",
       "      <td>2.150000</td>\n",
       "      <td>0.000000</td>\n",
       "    </tr>\n",
       "    <tr>\n",
       "      <th>귀문</th>\n",
       "      <td>4.472174</td>\n",
       "      <td>0.138464</td>\n",
       "    </tr>\n",
       "    <tr>\n",
       "      <th>블러드</th>\n",
       "      <td>4.940000</td>\n",
       "      <td>0.000000</td>\n",
       "    </tr>\n",
       "    <tr>\n",
       "      <th>어른들은 몰라요</th>\n",
       "      <td>4.943846</td>\n",
       "      <td>0.086365</td>\n",
       "    </tr>\n",
       "    <tr>\n",
       "      <th>여고괴담 여섯번째 이야기 : 모교</th>\n",
       "      <td>5.214474</td>\n",
       "      <td>0.274617</td>\n",
       "    </tr>\n",
       "    <tr>\n",
       "      <th>랑종</th>\n",
       "      <td>5.289655</td>\n",
       "      <td>0.105508</td>\n",
       "    </tr>\n",
       "    <tr>\n",
       "      <th>미드나이트</th>\n",
       "      <td>5.435789</td>\n",
       "      <td>0.370890</td>\n",
       "    </tr>\n",
       "    <tr>\n",
       "      <th>사냥의 시간</th>\n",
       "      <td>5.670000</td>\n",
       "      <td>0.000000</td>\n",
       "    </tr>\n",
       "    <tr>\n",
       "      <th>강변호텔</th>\n",
       "      <td>5.998333</td>\n",
       "      <td>0.005774</td>\n",
       "    </tr>\n",
       "    <tr>\n",
       "      <th>미드소마</th>\n",
       "      <td>6.230000</td>\n",
       "      <td>0.000000</td>\n",
       "    </tr>\n",
       "  </tbody>\n",
       "</table>\n",
       "</div>"
      ],
      "text/plain": [
       "                          평점 평균   평점 표준편차\n",
       "킹 오브 프리즘 -샤이니 세븐 스타즈-  2.150000  0.000000\n",
       "귀문                     4.472174  0.138464\n",
       "블러드                    4.940000  0.000000\n",
       "어른들은 몰라요               4.943846  0.086365\n",
       "여고괴담 여섯번째 이야기 : 모교     5.214474  0.274617\n",
       "랑종                     5.289655  0.105508\n",
       "미드나이트                  5.435789  0.370890\n",
       "사냥의 시간                 5.670000  0.000000\n",
       "강변호텔                   5.998333  0.005774\n",
       "미드소마                   6.230000  0.000000"
      ]
     },
     "execution_count": 30,
     "metadata": {},
     "output_type": "execute_result"
    }
   ],
   "source": [
    "# Worst 10\n",
    "movie_worst = movie_unique.sort_values(by = '평점 평균', ascending=True)\n",
    "movie_worst.head(10)"
   ]
  },
  {
   "cell_type": "markdown",
   "metadata": {},
   "source": [
    "### 하나의 영화에 대해서 연습"
   ]
  },
  {
   "cell_type": "markdown",
   "metadata": {},
   "source": [
    "DataFrame에 쿼리문을 활용하여, 하나의 영화에 해당하는 데이터만 뽑아보자.\n",
    "\n",
    "쿼리문 작성시에는, `''`와 `\"\"`을 안 겹치도록 잘 활용해서 써야한다!"
   ]
  },
  {
   "cell_type": "code",
   "execution_count": 32,
   "metadata": {},
   "outputs": [
    {
     "data": {
      "text/html": [
       "<div>\n",
       "<style scoped>\n",
       "    .dataframe tbody tr th:only-of-type {\n",
       "        vertical-align: middle;\n",
       "    }\n",
       "\n",
       "    .dataframe tbody tr th {\n",
       "        vertical-align: top;\n",
       "    }\n",
       "\n",
       "    .dataframe thead th {\n",
       "        text-align: right;\n",
       "    }\n",
       "</style>\n",
       "<table border=\"1\" class=\"dataframe\">\n",
       "  <thead>\n",
       "    <tr style=\"text-align: right;\">\n",
       "      <th></th>\n",
       "      <th>date</th>\n",
       "      <th>name</th>\n",
       "      <th>point</th>\n",
       "    </tr>\n",
       "  </thead>\n",
       "  <tbody>\n",
       "    <tr>\n",
       "      <th>22</th>\n",
       "      <td>2021-06-22</td>\n",
       "      <td>노매드랜드</td>\n",
       "      <td>8.49</td>\n",
       "    </tr>\n",
       "    <tr>\n",
       "      <th>72</th>\n",
       "      <td>2021-06-23</td>\n",
       "      <td>노매드랜드</td>\n",
       "      <td>8.47</td>\n",
       "    </tr>\n",
       "    <tr>\n",
       "      <th>120</th>\n",
       "      <td>2021-06-24</td>\n",
       "      <td>노매드랜드</td>\n",
       "      <td>8.48</td>\n",
       "    </tr>\n",
       "    <tr>\n",
       "      <th>173</th>\n",
       "      <td>2021-06-25</td>\n",
       "      <td>노매드랜드</td>\n",
       "      <td>8.48</td>\n",
       "    </tr>\n",
       "    <tr>\n",
       "      <th>219</th>\n",
       "      <td>2021-06-26</td>\n",
       "      <td>노매드랜드</td>\n",
       "      <td>8.48</td>\n",
       "    </tr>\n",
       "    <tr>\n",
       "      <th>...</th>\n",
       "      <td>...</td>\n",
       "      <td>...</td>\n",
       "      <td>...</td>\n",
       "    </tr>\n",
       "    <tr>\n",
       "      <th>4284</th>\n",
       "      <td>2021-09-25</td>\n",
       "      <td>노매드랜드</td>\n",
       "      <td>8.47</td>\n",
       "    </tr>\n",
       "    <tr>\n",
       "      <th>4331</th>\n",
       "      <td>2021-09-26</td>\n",
       "      <td>노매드랜드</td>\n",
       "      <td>8.47</td>\n",
       "    </tr>\n",
       "    <tr>\n",
       "      <th>4377</th>\n",
       "      <td>2021-09-27</td>\n",
       "      <td>노매드랜드</td>\n",
       "      <td>8.47</td>\n",
       "    </tr>\n",
       "    <tr>\n",
       "      <th>4428</th>\n",
       "      <td>2021-09-28</td>\n",
       "      <td>노매드랜드</td>\n",
       "      <td>8.47</td>\n",
       "    </tr>\n",
       "    <tr>\n",
       "      <th>4475</th>\n",
       "      <td>2021-09-29</td>\n",
       "      <td>노매드랜드</td>\n",
       "      <td>8.47</td>\n",
       "    </tr>\n",
       "  </tbody>\n",
       "</table>\n",
       "<p>100 rows × 3 columns</p>\n",
       "</div>"
      ],
      "text/plain": [
       "            date   name  point\n",
       "22    2021-06-22  노매드랜드   8.49\n",
       "72    2021-06-23  노매드랜드   8.47\n",
       "120   2021-06-24  노매드랜드   8.48\n",
       "173   2021-06-25  노매드랜드   8.48\n",
       "219   2021-06-26  노매드랜드   8.48\n",
       "...          ...    ...    ...\n",
       "4284  2021-09-25  노매드랜드   8.47\n",
       "4331  2021-09-26  노매드랜드   8.47\n",
       "4377  2021-09-27  노매드랜드   8.47\n",
       "4428  2021-09-28  노매드랜드   8.47\n",
       "4475  2021-09-29  노매드랜드   8.47\n",
       "\n",
       "[100 rows x 3 columns]"
      ]
     },
     "execution_count": 32,
     "metadata": {},
     "output_type": "execute_result"
    }
   ],
   "source": [
    "tmp = movie.query('name == [\"노매드랜드\"]')\n",
    "tmp"
   ]
  },
  {
   "cell_type": "code",
   "execution_count": 33,
   "metadata": {},
   "outputs": [],
   "source": [
    "# 시각화\n",
    "\n",
    "# 파이썬 시각화 패키지 불러오기\n",
    "import matplotlib.pyplot as plt\n",
    "%matplotlib inline\n",
    "plt.style.use('seaborn-darkgrid')\n",
    "\n",
    "# 사용자 운영체제 확인\n",
    "import platform\n",
    "platform.system()\n",
    "# 운영체제별 한글 폰트 설정\n",
    "if platform.system() == 'Darwin': # Mac 환경 폰트 설정\n",
    "    plt.rc('font', family='AppleGothic')\n",
    "elif platform.system() == 'Windows': # Windows 환경 폰트 설정\n",
    "    plt.rc('font', family='Malgun Gothic')\n",
    "\n",
    "plt.rc('axes', unicode_minus=False) # 마이너스 폰트 설정\n",
    "\n",
    "\n",
    "# 글씨 선명하게 출력하는 설정\n",
    "%config InlineBackend.figure_format = 'retina'"
   ]
  },
  {
   "cell_type": "code",
   "execution_count": 35,
   "metadata": {},
   "outputs": [
    {
     "data": {
      "image/png": "[encoded data removed]",
      "text/plain": [
       "<Figure size 1440x576 with 1 Axes>"
      ]
     },
     "metadata": {
      "image/png": {
       "height": 542,
       "width": 1177
      }
     },
     "output_type": "display_data"
    }
   ],
   "source": [
    "plt.figure(figsize=(20,8))\n",
    "plt.plot(tmp['date'], tmp['point'])\n",
    "plt.title(\"날짜별 평점 추이\")\n",
    "plt.xlabel(\"날짜\")\n",
    "plt.xticks(rotation=\"vertical\")\n",
    "plt.ylabel(\"평점\")\n",
    "plt.legend(labels=['평점 추이'])\n",
    "plt.show()"
   ]
  },
  {
   "cell_type": "markdown",
   "metadata": {},
   "source": [
    "### 날짜별 영화 평점 데이터 만들기, plot으로 추이 살펴보기!"
   ]
  },
  {
   "cell_type": "markdown",
   "metadata": {},
   "source": [
    "##### 우선 Pivot_table을 통해서 날짜를 인덱스로한, 평점 데이터를 만든다!"
   ]
  },
  {
   "cell_type": "code",
   "execution_count": 36,
   "metadata": {
    "scrolled": true
   },
   "outputs": [
    {
     "data": {
      "text/html": [
       "<div>\n",
       "<style scoped>\n",
       "    .dataframe tbody tr th:only-of-type {\n",
       "        vertical-align: middle;\n",
       "    }\n",
       "\n",
       "    .dataframe tbody tr th {\n",
       "        vertical-align: top;\n",
       "    }\n",
       "\n",
       "    .dataframe thead th {\n",
       "        text-align: right;\n",
       "    }\n",
       "</style>\n",
       "<table border=\"1\" class=\"dataframe\">\n",
       "  <thead>\n",
       "    <tr style=\"text-align: right;\">\n",
       "      <th>name</th>\n",
       "      <th>007 노 타임 투 다이</th>\n",
       "      <th>13 구역</th>\n",
       "      <th>47 미터</th>\n",
       "      <th>500일의 썸머</th>\n",
       "      <th>69세</th>\n",
       "      <th>U-571</th>\n",
       "      <th>가버나움</th>\n",
       "      <th>간츠: 오</th>\n",
       "      <th>강변호텔</th>\n",
       "      <th>걸어도 걸어도</th>\n",
       "      <th>...</th>\n",
       "      <th>하나와 앨리스</th>\n",
       "      <th>하하하</th>\n",
       "      <th>한여름의 판타지아</th>\n",
       "      <th>해리 포터와 마법사의 돌</th>\n",
       "      <th>해피 투게더</th>\n",
       "      <th>혐오스런 마츠코의 일생</th>\n",
       "      <th>호우시절</th>\n",
       "      <th>홀리 모터스</th>\n",
       "      <th>화양연화</th>\n",
       "      <th>흐르는 강물처럼</th>\n",
       "    </tr>\n",
       "    <tr>\n",
       "      <th>date</th>\n",
       "      <th></th>\n",
       "      <th></th>\n",
       "      <th></th>\n",
       "      <th></th>\n",
       "      <th></th>\n",
       "      <th></th>\n",
       "      <th></th>\n",
       "      <th></th>\n",
       "      <th></th>\n",
       "      <th></th>\n",
       "      <th></th>\n",
       "      <th></th>\n",
       "      <th></th>\n",
       "      <th></th>\n",
       "      <th></th>\n",
       "      <th></th>\n",
       "      <th></th>\n",
       "      <th></th>\n",
       "      <th></th>\n",
       "      <th></th>\n",
       "      <th></th>\n",
       "    </tr>\n",
       "  </thead>\n",
       "  <tbody>\n",
       "    <tr>\n",
       "      <th>2021-06-22</th>\n",
       "      <td>NaN</td>\n",
       "      <td>NaN</td>\n",
       "      <td>NaN</td>\n",
       "      <td>8.43</td>\n",
       "      <td>NaN</td>\n",
       "      <td>NaN</td>\n",
       "      <td>NaN</td>\n",
       "      <td>8.20</td>\n",
       "      <td>5.98</td>\n",
       "      <td>NaN</td>\n",
       "      <td>...</td>\n",
       "      <td>NaN</td>\n",
       "      <td>NaN</td>\n",
       "      <td>NaN</td>\n",
       "      <td>NaN</td>\n",
       "      <td>9.19</td>\n",
       "      <td>NaN</td>\n",
       "      <td>NaN</td>\n",
       "      <td>NaN</td>\n",
       "      <td>8.77</td>\n",
       "      <td>NaN</td>\n",
       "    </tr>\n",
       "    <tr>\n",
       "      <th>2021-06-23</th>\n",
       "      <td>NaN</td>\n",
       "      <td>NaN</td>\n",
       "      <td>NaN</td>\n",
       "      <td>8.43</td>\n",
       "      <td>NaN</td>\n",
       "      <td>NaN</td>\n",
       "      <td>NaN</td>\n",
       "      <td>8.19</td>\n",
       "      <td>NaN</td>\n",
       "      <td>NaN</td>\n",
       "      <td>...</td>\n",
       "      <td>NaN</td>\n",
       "      <td>NaN</td>\n",
       "      <td>NaN</td>\n",
       "      <td>NaN</td>\n",
       "      <td>9.19</td>\n",
       "      <td>NaN</td>\n",
       "      <td>NaN</td>\n",
       "      <td>NaN</td>\n",
       "      <td>8.77</td>\n",
       "      <td>NaN</td>\n",
       "    </tr>\n",
       "    <tr>\n",
       "      <th>2021-06-24</th>\n",
       "      <td>NaN</td>\n",
       "      <td>NaN</td>\n",
       "      <td>NaN</td>\n",
       "      <td>8.43</td>\n",
       "      <td>NaN</td>\n",
       "      <td>NaN</td>\n",
       "      <td>NaN</td>\n",
       "      <td>8.19</td>\n",
       "      <td>NaN</td>\n",
       "      <td>NaN</td>\n",
       "      <td>...</td>\n",
       "      <td>NaN</td>\n",
       "      <td>NaN</td>\n",
       "      <td>NaN</td>\n",
       "      <td>NaN</td>\n",
       "      <td>9.19</td>\n",
       "      <td>NaN</td>\n",
       "      <td>NaN</td>\n",
       "      <td>NaN</td>\n",
       "      <td>8.77</td>\n",
       "      <td>NaN</td>\n",
       "    </tr>\n",
       "    <tr>\n",
       "      <th>2021-06-25</th>\n",
       "      <td>NaN</td>\n",
       "      <td>NaN</td>\n",
       "      <td>NaN</td>\n",
       "      <td>8.43</td>\n",
       "      <td>NaN</td>\n",
       "      <td>NaN</td>\n",
       "      <td>NaN</td>\n",
       "      <td>8.18</td>\n",
       "      <td>NaN</td>\n",
       "      <td>NaN</td>\n",
       "      <td>...</td>\n",
       "      <td>NaN</td>\n",
       "      <td>NaN</td>\n",
       "      <td>NaN</td>\n",
       "      <td>NaN</td>\n",
       "      <td>9.19</td>\n",
       "      <td>NaN</td>\n",
       "      <td>NaN</td>\n",
       "      <td>NaN</td>\n",
       "      <td>8.77</td>\n",
       "      <td>NaN</td>\n",
       "    </tr>\n",
       "    <tr>\n",
       "      <th>2021-06-26</th>\n",
       "      <td>NaN</td>\n",
       "      <td>NaN</td>\n",
       "      <td>NaN</td>\n",
       "      <td>8.43</td>\n",
       "      <td>NaN</td>\n",
       "      <td>NaN</td>\n",
       "      <td>NaN</td>\n",
       "      <td>8.18</td>\n",
       "      <td>NaN</td>\n",
       "      <td>NaN</td>\n",
       "      <td>...</td>\n",
       "      <td>NaN</td>\n",
       "      <td>NaN</td>\n",
       "      <td>NaN</td>\n",
       "      <td>NaN</td>\n",
       "      <td>9.19</td>\n",
       "      <td>NaN</td>\n",
       "      <td>NaN</td>\n",
       "      <td>NaN</td>\n",
       "      <td>8.77</td>\n",
       "      <td>NaN</td>\n",
       "    </tr>\n",
       "  </tbody>\n",
       "</table>\n",
       "<p>5 rows × 183 columns</p>\n",
       "</div>"
      ],
      "text/plain": [
       "name        007 노 타임 투 다이  13 구역  47 미터  500일의 썸머  69세  U-571  가버나움  간츠: 오  \\\n",
       "date                                                                         \n",
       "2021-06-22            NaN    NaN    NaN      8.43  NaN    NaN   NaN   8.20   \n",
       "2021-06-23            NaN    NaN    NaN      8.43  NaN    NaN   NaN   8.19   \n",
       "2021-06-24            NaN    NaN    NaN      8.43  NaN    NaN   NaN   8.19   \n",
       "2021-06-25            NaN    NaN    NaN      8.43  NaN    NaN   NaN   8.18   \n",
       "2021-06-26            NaN    NaN    NaN      8.43  NaN    NaN   NaN   8.18   \n",
       "\n",
       "name        강변호텔  걸어도 걸어도  ...  하나와 앨리스  하하하  한여름의 판타지아  해리 포터와 마법사의 돌  \\\n",
       "date                       ...                                           \n",
       "2021-06-22  5.98      NaN  ...      NaN  NaN        NaN            NaN   \n",
       "2021-06-23   NaN      NaN  ...      NaN  NaN        NaN            NaN   \n",
       "2021-06-24   NaN      NaN  ...      NaN  NaN        NaN            NaN   \n",
       "2021-06-25   NaN      NaN  ...      NaN  NaN        NaN            NaN   \n",
       "2021-06-26   NaN      NaN  ...      NaN  NaN        NaN            NaN   \n",
       "\n",
       "name        해피 투게더  혐오스런 마츠코의 일생  호우시절  홀리 모터스  화양연화  흐르는 강물처럼  \n",
       "date                                                            \n",
       "2021-06-22    9.19           NaN   NaN     NaN  8.77       NaN  \n",
       "2021-06-23    9.19           NaN   NaN     NaN  8.77       NaN  \n",
       "2021-06-24    9.19           NaN   NaN     NaN  8.77       NaN  \n",
       "2021-06-25    9.19           NaN   NaN     NaN  8.77       NaN  \n",
       "2021-06-26    9.19           NaN   NaN     NaN  8.77       NaN  \n",
       "\n",
       "[5 rows x 183 columns]"
      ]
     },
     "execution_count": 36,
     "metadata": {},
     "output_type": "execute_result"
    }
   ],
   "source": [
    "movie_pivot = pd.pivot_table(data = movie, index = 'date', columns = 'name', values = 'point')\n",
    "movie_pivot.head()"
   ]
  },
  {
   "cell_type": "markdown",
   "metadata": {},
   "source": [
    "##### 내가 좋아하는 영화들의 평점 추이를, plt.plot을 이용해서 가볍게 살펴보자!"
   ]
  },
  {
   "cell_type": "code",
   "execution_count": 37,
   "metadata": {},
   "outputs": [
    {
     "data": {
      "image/png": "[encoded data removed]",
      "text/plain": [
       "<Figure size 1440x576 with 1 Axes>"
      ]
     },
     "metadata": {
      "image/png": {
       "height": 542,
       "width": 1171
      }
     },
     "output_type": "display_data"
    }
   ],
   "source": [
    "target_movie = ['블랙 위도우', '크루엘라', '극장판 귀멸의 칼날: 무한열차편', '모가디슈', '미나리']\n",
    "plt.figure(figsize=(20,8))\n",
    "\n",
    "plt.plot(movie_pivot[target_movie])\n",
    "\n",
    "plt.title(\"날짜별 평점 추이\")\n",
    "plt.xlabel(\"날짜\")\n",
    "plt.xticks(rotation=\"vertical\")\n",
    "plt.tick_params(bottom='off', labelbottom='off')\n",
    "plt.ylabel(\"평점\")\n",
    "\n",
    "plt.legend(target_movie, loc='best')\n",
    "\n",
    "plt.show()"
   ]
  },
  {
   "cell_type": "markdown",
   "metadata": {},
   "source": [
    "### 너무나도 간단한 코딩이지만, 내가 원하는 정보를 웹페이지에서 긁어와서, 데이터프레임으로 변환하고 그리는 과정이 앞으로 충분히 유용할 수 있다는 느낌을 받았다! 앞으로도 배운 것 중에서 흥미로운 것들을 종종 업로드 할 예정이다 :)"
   ]
  }
 ],
 "metadata": {
  "kernelspec": {
   "display_name": "Python 3",
   "language": "python",
   "name": "python3"
  },
  "language_info": {
   "codemirror_mode": {
    "name": "ipython",
    "version": 3
   },
   "file_extension": ".py",
   "mimetype": "text/x-python",
   "name": "python",
   "nbconvert_exporter": "python",
   "pygments_lexer": "ipython3",
   "version": "3.8.8"
  },
  "toc": {
   "base_numbering": 1,
   "nav_menu": {},
   "number_sections": false,
   "sideBar": true,
   "skip_h1_title": false,
   "title_cell": "Table of Contents",
   "title_sidebar": "Contents",
   "toc_cell": false,
   "toc_position": {},
   "toc_section_display": true,
   "toc_window_display": false
  }
 },
 "nbformat": 4,
 "nbformat_minor": 4
}
