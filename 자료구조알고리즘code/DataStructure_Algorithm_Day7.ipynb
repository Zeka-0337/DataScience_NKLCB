{
 "cells": [
  {
   "cell_type": "markdown",
   "metadata": {},
   "source": [
    "# 리스트"
   ]
  },
  {
   "cell_type": "markdown",
   "metadata": {},
   "source": [
    "## len 함수"
   ]
  },
  {
   "cell_type": "code",
   "execution_count": 1,
   "metadata": {},
   "outputs": [
    {
     "name": "stdout",
     "output_type": "stream",
     "text": [
      "['홍길동', '김길동', '노길동']\n"
     ]
    }
   ],
   "source": [
    "students = ['홍길동','김길동','노길동']\n",
    "print(students)"
   ]
  },
  {
   "cell_type": "code",
   "execution_count": 4,
   "metadata": {},
   "outputs": [
    {
     "name": "stdout",
     "output_type": "stream",
     "text": [
      "번호 : 1\n",
      "이름 : 홍길동\n",
      "번호 : 2\n",
      "이름 : 김길동\n",
      "번호 : 3\n",
      "이름 : 노길동\n"
     ]
    }
   ],
   "source": [
    "for i in range(len(students)):\n",
    "    print(\"번호 : {}\".format(i+1))\n",
    "    print(\"이름 : {}\".format(students[i]))"
   ]
  },
  {
   "cell_type": "code",
   "execution_count": 5,
   "metadata": {},
   "outputs": [
    {
     "name": "stdout",
     "output_type": "stream",
     "text": [
      "13\n"
     ]
    }
   ],
   "source": [
    "print(len(\"Hello Python!\"))"
   ]
  },
  {
   "cell_type": "markdown",
   "metadata": {},
   "source": [
    "## for문의 반복가능 객체에 직접 list를 집어넣기"
   ]
  },
  {
   "cell_type": "code",
   "execution_count": 7,
   "metadata": {},
   "outputs": [
    {
     "name": "stdout",
     "output_type": "stream",
     "text": [
      "홍길동\n",
      "김길동\n",
      "노길동\n"
     ]
    }
   ],
   "source": [
    "for person in students:\n",
    "    print(person)"
   ]
  },
  {
   "cell_type": "code",
   "execution_count": 8,
   "metadata": {},
   "outputs": [
    {
     "name": "stdout",
     "output_type": "stream",
     "text": [
      "1반의 학생수 : 19\n",
      "2반의 학생수 : 20\n",
      "3반의 학생수 : 21\n",
      "4반의 학생수 : 12\n",
      "5반의 학생수 : 41\n"
     ]
    }
   ],
   "source": [
    "studentCnts = [[1, 19], [2,20], [3,21], [4,12], [5,41]]\n",
    "\n",
    "for i, cnts in studentCnts:\n",
    "    print(\"{}반의 학생수 : {}\".format(i, cnts))"
   ]
  },
  {
   "cell_type": "markdown",
   "metadata": {},
   "source": [
    "## for문과 조건문을 이용한 조회"
   ]
  },
  {
   "cell_type": "code",
   "execution_count": 11,
   "metadata": {},
   "outputs": [
    {
     "name": "stdout",
     "output_type": "stream",
     "text": [
      "F과목 : 국어, 점수 : 58\n",
      "F과목 : 사회, 점수 : 44\n"
     ]
    }
   ],
   "source": [
    "minScore = 60\n",
    "scores = [\n",
    "    ['국어', 58],\n",
    "    ['수학', 77],\n",
    "    ['영어', 99],\n",
    "    ['과학', 88],\n",
    "    ['사회', 44],\n",
    "]\n",
    "for item in scores:\n",
    "    if item[1] < minScore :\n",
    "        print(\"F과목 : {}, 점수 : {}\".format(item[0], item[1]))"
   ]
  },
  {
   "cell_type": "markdown",
   "metadata": {},
   "source": [
    "## enumerate()"
   ]
  },
  {
   "cell_type": "code",
   "execution_count": 12,
   "metadata": {},
   "outputs": [
    {
     "name": "stdout",
     "output_type": "stream",
     "text": [
      "Once deleted, variables cannot be recovered. Proceed (y/[n])? y\n"
     ]
    }
   ],
   "source": [
    "%reset"
   ]
  },
  {
   "cell_type": "code",
   "execution_count": 13,
   "metadata": {},
   "outputs": [
    {
     "name": "stdout",
     "output_type": "stream",
     "text": [
      "0th value is 농구\n",
      "1th value is 축구\n",
      "2th value is 배구\n",
      "3th value is 테니스\n",
      "4th value is 탁구\n"
     ]
    }
   ],
   "source": [
    "sports = ['농구','축구','배구','테니스','탁구']\n",
    "\n",
    "for idx, value in enumerate(sports):\n",
    "    print(\"{}th value is {}\".format(idx, value))"
   ]
  },
  {
   "cell_type": "markdown",
   "metadata": {},
   "source": [
    "##### Str type also can use enumerate"
   ]
  },
  {
   "cell_type": "code",
   "execution_count": 14,
   "metadata": {},
   "outputs": [
    {
     "name": "stdout",
     "output_type": "stream",
     "text": [
      "0th value is H\n",
      "1th value is e\n",
      "2th value is l\n",
      "3th value is l\n",
      "4th value is o\n",
      "5th value is  \n",
      "6th value is P\n",
      "7th value is y\n",
      "8th value is t\n",
      "9th value is h\n",
      "10th value is o\n",
      "11th value is n\n",
      "12th value is !\n"
     ]
    }
   ],
   "source": [
    "string = 'Hello Python!'\n",
    "\n",
    "for idx, value in enumerate(string):\n",
    "    print(\"{}th value is {}\".format(idx, value))"
   ]
  },
  {
   "cell_type": "markdown",
   "metadata": {},
   "source": [
    "##### Favorite Game Inquiry with for, if"
   ]
  },
  {
   "cell_type": "code",
   "execution_count": 16,
   "metadata": {},
   "outputs": [
    {
     "name": "stdout",
     "output_type": "stream",
     "text": [
      "가장 좋아하는 종목 입력 : ('농구','축구','배구','테니스','탁구')테니스\n",
      "가장 좋아하는 종목 테니스은 4번째 종목 입니다\n"
     ]
    }
   ],
   "source": [
    "sports = ['농구','축구','배구','테니스','탁구']\n",
    "favorite = input(\"가장 좋아하는 종목 입력 : ('농구','축구','배구','테니스','탁구')\")\n",
    "\n",
    "for idx, value in enumerate(sports):\n",
    "    if value == favorite :\n",
    "        print(\"가장 좋아하는 종목 {}은 {}번째 종목 입니다\".format(value, idx+1))"
   ]
  },
  {
   "cell_type": "markdown",
   "metadata": {},
   "source": [
    "## append()\n",
    "- add element in the last index"
   ]
  },
  {
   "cell_type": "code",
   "execution_count": 19,
   "metadata": {},
   "outputs": [
    {
     "name": "stdout",
     "output_type": "stream",
     "text": [
      "subject : kor, score : 58\n",
      "subject : math, score : 77\n",
      "subject : eng, score : 99\n",
      "subject : science, score : 88\n",
      "subject : society, score : 44\n",
      "subject : exercise, score : 90\n"
     ]
    }
   ],
   "source": [
    "scores = [\n",
    "    ['kor', 58],\n",
    "    ['math', 77],\n",
    "    ['eng', 99],\n",
    "    ['science', 88],\n",
    "    ['society', 44],\n",
    "]\n",
    "scores.append(['exercise',90])\n",
    "for sub, score in scores:\n",
    "    print(\"subject : {}, score : {}\".format(sub, score))"
   ]
  },
  {
   "cell_type": "markdown",
   "metadata": {},
   "source": [
    "## insert()\n",
    "- we can add an element at certain index of list by using insert()"
   ]
  },
  {
   "cell_type": "code",
   "execution_count": 23,
   "metadata": {},
   "outputs": [
    {
     "name": "stdout",
     "output_type": "stream",
     "text": [
      "['김길동', '황길동', '이길동']\n",
      "['김길동', '황길동', '유장훈', '이길동']\n"
     ]
    }
   ],
   "source": [
    "students = ['김길동','황길동','이길동']\n",
    "print(students)\n",
    "\n",
    "students.insert(2, '유장훈')\n",
    "print(students)"
   ]
  },
  {
   "cell_type": "code",
   "execution_count": 25,
   "metadata": {},
   "outputs": [
    {
     "name": "stdout",
     "output_type": "stream",
     "text": [
      "Input Number55\n",
      "numbers :  [1, 3, 6, 11, 45, 54, 55, 62, 74, 85]\n"
     ]
    }
   ],
   "source": [
    "numbers =[1,3,6,11,45,54,62,74,85]\n",
    "inputNumber = int(input('Input Number'))\n",
    "insertIdx = 0\n",
    "\n",
    "for idx, value in enumerate(numbers):\n",
    "    if inputNumber <= value :\n",
    "        insertIdx = idx\n",
    "        break\n",
    "numbers.insert(insertIdx, inputNumber)\n",
    "print(\"numbers : \", numbers)"
   ]
  },
  {
   "cell_type": "markdown",
   "metadata": {},
   "source": [
    "## Delete Item of List : pop()\n",
    "- pop() : delete last element of list\n",
    "- pop(n) : delete nth index element, return that element"
   ]
  },
  {
   "cell_type": "code",
   "execution_count": 32,
   "metadata": {},
   "outputs": [
    {
     "name": "stdout",
     "output_type": "stream",
     "text": [
      "studnets : ['김길동', '황길동', '이길동']\n"
     ]
    },
    {
     "data": {
      "text/plain": [
       "('이길동', ['김길동', '황길동'])"
      ]
     },
     "execution_count": 32,
     "metadata": {},
     "output_type": "execute_result"
    }
   ],
   "source": [
    "students = ['김길동','황길동','이길동']\n",
    "print('studnets :', students)\n",
    "\n",
    "students.pop(), students"
   ]
  },
  {
   "cell_type": "code",
   "execution_count": 35,
   "metadata": {},
   "outputs": [
    {
     "name": "stdout",
     "output_type": "stream",
     "text": [
      "playerscores : [9.5, 8.9, 9.2, 9.8, 8.8, 9.0]\n",
      "MinScore : 8.8, MinScoreIdx : 4, Deleted list : [9.5, 8.9, 9.2, 9.8, 9.0]\n"
     ]
    }
   ],
   "source": [
    "playerScores = [9.5,8.9,9.2,9.8,8.8,9.0]\n",
    "print('playerscores :', playerScores)\n",
    "\n",
    "minScore = 0\n",
    "minScoreIdx = 0\n",
    "\n",
    "for idx, score in enumerate(playerScores):\n",
    "    if idx == 0 or minScore > score:\n",
    "        minScore = score\n",
    "        minScoreIdx = idx\n",
    "print('MinScore : {}, MinScoreIdx : {}, Deleted list : {}'.format(playerScores.pop(minScoreIdx), minScoreIdx, playerScores))"
   ]
  },
  {
   "cell_type": "markdown",
   "metadata": {},
   "source": [
    "## Delete Item of List : remove()\n",
    "- delete specified item of the list"
   ]
  },
  {
   "cell_type": "code",
   "execution_count": 38,
   "metadata": {},
   "outputs": [
    {
     "name": "stdout",
     "output_type": "stream",
     "text": [
      "['태용', '도영', '재현', '유타', '해찬', '제노']\n",
      "['도영', '재현', '유타', '해찬', '제노']\n"
     ]
    }
   ],
   "source": [
    "students = ['태용','도영','재현','유타','해찬','제노']\n",
    "print(students)\n",
    "\n",
    "students.remove('태용')\n",
    "print(students)"
   ]
  },
  {
   "cell_type": "markdown",
   "metadata": {},
   "source": [
    "##### If list has more than two items, we need to use \"While\""
   ]
  },
  {
   "cell_type": "code",
   "execution_count": 43,
   "metadata": {},
   "outputs": [
    {
     "name": "stdout",
     "output_type": "stream",
     "text": [
      "['도영', '재현', '유타', '해찬', '제노', '태용', '재현', '태용']\n",
      "Still have two '태용', Use While\n",
      "['도영', '재현', '유타', '해찬', '제노', '재현']\n"
     ]
    }
   ],
   "source": [
    "students = ['태용','도영','재현','유타','해찬','제노','태용','재현','태용'] # 3 '태용'\n",
    "students.remove('태용')\n",
    "print(students)\n",
    "print(\"Still have two '태용', Use While\")\n",
    "\n",
    "while '태용' in students :\n",
    "    students.remove('태용')\n",
    "print(students)"
   ]
  },
  {
   "cell_type": "markdown",
   "metadata": {},
   "source": [
    "## link the list : extend()"
   ]
  },
  {
   "cell_type": "code",
   "execution_count": 46,
   "metadata": {},
   "outputs": [
    {
     "name": "stdout",
     "output_type": "stream",
     "text": [
      "group 1 : ['태용', '재현', '유타', '해찬', '마크', '천러']\n",
      "group 2 : ['루카스', '쇼타로', '샤오쥔']\n",
      "After Extend\n",
      "group 1 : ['태용', '재현', '유타', '해찬', '마크', '천러', '루카스', '쇼타로', '샤오쥔']\n",
      "group 2 : ['루카스', '쇼타로', '샤오쥔']\n"
     ]
    }
   ],
   "source": [
    "list_A = ['태용','재현','유타','해찬','마크','천러']\n",
    "list_B = ['루카스','쇼타로','샤오쥔']\n",
    "\n",
    "print(\"group 1 : {}\".format(list_A))\n",
    "print(\"group 2 : {}\".format(list_B))\n",
    "\n",
    "list_A.extend(list_B)\n",
    "print(\"After Extend\")\n",
    "print(\"group 1 : {}\".format(list_A))\n",
    "print(\"group 2 : {}\".format(list_B))"
   ]
  },
  {
   "cell_type": "markdown",
   "metadata": {},
   "source": [
    "##### List_A changes when use 'extend()'"
   ]
  },
  {
   "cell_type": "code",
   "execution_count": 47,
   "metadata": {},
   "outputs": [
    {
     "name": "stdout",
     "output_type": "stream",
     "text": [
      "group 1 : ['태용', '재현', '유타', '해찬', '마크', '천러']\n",
      "group 2 : ['루카스', '쇼타로', '샤오쥔']\n",
      "After +\n",
      "result : ['태용', '재현', '유타', '해찬', '마크', '천러', '루카스', '쇼타로', '샤오쥔']\n",
      "group 1 : ['태용', '재현', '유타', '해찬', '마크', '천러']\n",
      "group 2 : ['루카스', '쇼타로', '샤오쥔']\n"
     ]
    }
   ],
   "source": [
    "list_A = ['태용','재현','유타','해찬','마크','천러']\n",
    "list_B = ['루카스','쇼타로','샤오쥔']\n",
    "\n",
    "print(\"group 1 : {}\".format(list_A))\n",
    "print(\"group 2 : {}\".format(list_B))\n",
    "\n",
    "result = list_A + list_B\n",
    "print(\"After +\")\n",
    "print(\"result : {}\".format(result))\n",
    "print(\"group 1 : {}\".format(list_A))\n",
    "print(\"group 2 : {}\".format(list_B))"
   ]
  },
  {
   "cell_type": "markdown",
   "metadata": {},
   "source": [
    "##### List_A, List_B does not change when use '+'"
   ]
  },
  {
   "cell_type": "markdown",
   "metadata": {},
   "source": [
    "### Example"
   ]
  },
  {
   "cell_type": "code",
   "execution_count": 50,
   "metadata": {},
   "outputs": [
    {
     "name": "stdout",
     "output_type": "stream",
     "text": [
      "addList : [1, 3, 5, 6, 7, 2, 3, 5, 8, 10]\n",
      "There are DUPLICATED Numbers!\n",
      "addList with No Duplicate : [1, 3, 5, 6, 7, 2, 3, 5, 8, 10]\n"
     ]
    }
   ],
   "source": [
    "myNumber = [1,3,5,6,7]\n",
    "friendNumber = [2,3,5,8,10]\n",
    "\n",
    "addList = myNumber + friendNumber\n",
    "print(\"addList : {}\".format(addList))\n",
    "print(\"There are DUPLICATED Numbers!\")\n",
    "\n",
    "addList_nodup = []\n",
    "for number in addList:\n",
    "    if number not in result :\n",
    "        addList_nodup.append(number)\n",
    "        \n",
    "print(\"addList with No Duplicate : {}\".format(addList))"
   ]
  },
  {
   "cell_type": "markdown",
   "metadata": {},
   "source": [
    "## sort()\n",
    "- sort() : sort the list by ascending order\n",
    "- sort(reverse = True) : Descending order"
   ]
  },
  {
   "cell_type": "code",
   "execution_count": 51,
   "metadata": {},
   "outputs": [
    {
     "name": "stdout",
     "output_type": "stream",
     "text": [
      "students : ['태용', '유타', '재현', '루카스', '도영']\n",
      "['도영', '루카스', '유타', '재현', '태용']\n",
      "['태용', '재현', '유타', '루카스', '도영']\n"
     ]
    }
   ],
   "source": [
    "students = ['태용','유타','재현','루카스','도영']\n",
    "print(\"students : {}\".format(students))\n",
    "\n",
    "students.sort()\n",
    "print(students)\n",
    "\n",
    "students.sort(reverse=True)\n",
    "print(students)"
   ]
  },
  {
   "cell_type": "markdown",
   "metadata": {},
   "source": [
    "## reverse()"
   ]
  },
  {
   "cell_type": "code",
   "execution_count": 57,
   "metadata": {},
   "outputs": [
    {
     "name": "stdout",
     "output_type": "stream",
     "text": [
      "students : ['태용', '유타', '재현', '루카스', '도영']\n",
      "reversed order : ['도영', '루카스', '재현', '유타', '태용']\n",
      "numbers : [2, 10, 50, 429, 234, 29, 19, 3460, 239]\n",
      "reversed order of numbers : [239, 3460, 19, 29, 234, 429, 50, 10, 2]\n"
     ]
    }
   ],
   "source": [
    "students = ['태용','유타','재현','루카스','도영']\n",
    "print(\"students : {}\".format(students))\n",
    "\n",
    "students.reverse()\n",
    "print(\"reversed order : {}\".format(students))\n",
    "\n",
    "numbers = [2,10,50,429,234,29,19,3460,239]\n",
    "print(\"numbers : {}\".format(numbers))\n",
    "\n",
    "numbers.reverse()\n",
    "print(\"reversed order of numbers : {}\".format(numbers))"
   ]
  },
  {
   "cell_type": "markdown",
   "metadata": {},
   "source": [
    "## index()"
   ]
  },
  {
   "cell_type": "code",
   "execution_count": 58,
   "metadata": {},
   "outputs": [
    {
     "name": "stdout",
     "output_type": "stream",
     "text": [
      "[9, 5, 7, 2, 8, 10, 1, 3, 6, 4] 2\n"
     ]
    }
   ],
   "source": [
    "import random\n",
    "\n",
    "sampleList = random.sample(range(1,11),10)\n",
    "\n",
    "searchIdx = sampleList.index(7)\n",
    "print(sampleList, searchIdx)"
   ]
  },
  {
   "cell_type": "markdown",
   "metadata": {},
   "source": [
    "## count()\n",
    "- 특정 아이템의 개수 알아내기"
   ]
  },
  {
   "cell_type": "code",
   "execution_count": 62,
   "metadata": {},
   "outputs": [
    {
     "data": {
      "text/plain": [
       "(3, 2)"
      ]
     },
     "execution_count": 62,
     "metadata": {},
     "output_type": "execute_result"
    }
   ],
   "source": [
    "students = ['태용','도영','재현','유타','해찬','제노','태용','재현','태용'] # 3 '태용'\n",
    "\n",
    "students.count('태용'), students.count('재현')"
   ]
  },
  {
   "cell_type": "code",
   "execution_count": 63,
   "metadata": {},
   "outputs": [
    {
     "name": "stdout",
     "output_type": "stream",
     "text": [
      "['도영', '재현', '유타', '해찬', '제노', '태용', '재현', '태용']\n",
      "['도영', '제노', '태용', '재현', '태용']\n"
     ]
    }
   ],
   "source": [
    "del students[0]\n",
    "print(students)\n",
    "\n",
    "del students[1:4]\n",
    "print(students)"
   ]
  },
  {
   "cell_type": "code",
   "execution_count": 66,
   "metadata": {},
   "outputs": [
    {
     "name": "stdout",
     "output_type": "stream",
     "text": [
      "['O', 'O', 'A', 'O', 'AB', 'O', 'A', 'AB', 'AB', 'B', 'B', 'O', 'O', 'O', 'B', 'O', 'O', 'B', 'B', 'O', 'B', 'A', 'B', 'A', 'AB', 'O', 'B', 'O', 'A', 'O', 'AB', 'B', 'O', 'O', 'O', 'AB', 'O', 'O', 'O', 'B', 'B', 'O', 'O', 'AB', 'AB', 'A', 'B', 'AB', 'B', 'B', 'A', 'AB', 'O', 'A', 'O', 'O', 'B', 'A', 'A', 'O', 'A', 'AB', 'B', 'AB', 'A', 'A', 'B', 'A', 'O', 'B', 'O', 'O', 'O', 'B', 'B', 'O', 'AB', 'B', 'A', 'A', 'B', 'A', 'A', 'AB', 'B', 'AB', 'B', 'AB', 'O', 'O', 'A', 'O', 'AB', 'AB', 'B', 'A', 'AB', 'A', 'A', 'B']\n",
      "100\n",
      "A형 : 22개\n",
      "B형 : 26개\n",
      "AB형 : 19개\n",
      "O형 : 33개\n"
     ]
    }
   ],
   "source": [
    "import random\n",
    "\n",
    "types = ['A','B','AB','O']\n",
    "\n",
    "todayData = []\n",
    "typeCnt = []\n",
    "\n",
    "for i in range(100):\n",
    "    aboType = types[random.randrange(len(types))]\n",
    "    todayData.append(aboType)\n",
    "    \n",
    "print(todayData)\n",
    "print(len(todayData))\n",
    "\n",
    "for aboType in types :\n",
    "    print(\"{}형 : {}개\".format(aboType, todayData.count(aboType)))"
   ]
  },
  {
   "cell_type": "code",
   "execution_count": null,
   "metadata": {},
   "outputs": [],
   "source": []
  }
 ],
 "metadata": {
  "kernelspec": {
   "display_name": "Python 3",
   "language": "python",
   "name": "python3"
  },
  "language_info": {
   "codemirror_mode": {
    "name": "ipython",
    "version": 3
   },
   "file_extension": ".py",
   "mimetype": "text/x-python",
   "name": "python",
   "nbconvert_exporter": "python",
   "pygments_lexer": "ipython3",
   "version": "3.8.5"
  },
  "toc": {
   "base_numbering": 1,
   "nav_menu": {},
   "number_sections": false,
   "sideBar": true,
   "skip_h1_title": false,
   "title_cell": "Table of Contents",
   "title_sidebar": "Contents",
   "toc_cell": false,
   "toc_position": {},
   "toc_section_display": true,
   "toc_window_display": false
  }
 },
 "nbformat": 4,
 "nbformat_minor": 4
}
