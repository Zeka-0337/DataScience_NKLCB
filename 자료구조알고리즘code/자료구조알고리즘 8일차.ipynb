{
 "cells": [
  {
   "cell_type": "markdown",
   "metadata": {},
   "source": [
    "# 리스트를 이용한 프로그래밍"
   ]
  },
  {
   "cell_type": "code",
   "execution_count": 1,
   "metadata": {},
   "outputs": [
    {
     "name": "stdout",
     "output_type": "stream",
     "text": [
      "12\n",
      "약수 : [1, 2, 3, 4, 6, 12]\n",
      "소수 : [2, 3, 5, 7, 11]\n"
     ]
    }
   ],
   "source": [
    "inputN = int(input())\n",
    "\n",
    "listA = []\n",
    "listB = []\n",
    "\n",
    "for n in range(1, inputN +1):\n",
    "    if n == 1:\n",
    "        listA.append(n)\n",
    "    else : \n",
    "        if inputN % n == 0:\n",
    "            listA.append(n)\n",
    "            \n",
    "for number in range(2, inputN+1):\n",
    "    flag = True\n",
    "    for n in range(2, number) : \n",
    "        if number % n == 0 :\n",
    "            flag = False\n",
    "            break\n",
    "    if flag :\n",
    "        listB.append(number)\n",
    "print(\"약수 : {}\".format(listA))\n",
    "print(\"소수 : {}\".format(listB))"
   ]
  },
  {
   "cell_type": "code",
   "execution_count": 2,
   "metadata": {},
   "outputs": [
    {
     "name": "stdout",
     "output_type": "stream",
     "text": [
      "짝수 : [86, 36, 32, 2, 96, 40, 92]\n",
      "홀수 : [13, 79, 75]\n"
     ]
    }
   ],
   "source": [
    "import random\n",
    "\n",
    "randList = random.sample(range(1,101), 10)\n",
    "even = []\n",
    "odd  = []\n",
    "\n",
    "for num in randList :\n",
    "    if num % 2 == 0:\n",
    "        even.append(num)\n",
    "    else: \n",
    "        odd.append(num)\n",
    "        \n",
    "print(\"짝수 : {}\".format(even))\n",
    "print(\"홀수 : {}\".format(odd))\n"
   ]
  },
  {
   "cell_type": "code",
   "execution_count": 3,
   "metadata": {},
   "outputs": [
    {
     "name": "stdout",
     "output_type": "stream",
     "text": [
      "친구 이름 입력 : 태용\n",
      "친구 이름 입력 : 재현\n",
      "친구 이름 입력 : 유타\n",
      "친구 이름 입력 : 해찬\n",
      "친구 이름 입력 : 쟈니\n",
      "친구 리스트 : ['태용', '재현', '유타', '해찬', '쟈니']\n",
      "오름차순 정렬 : ['유타', '재현', '쟈니', '태용', '해찬']\n",
      "내림차순 정렬 : ['해찬', '태용', '쟈니', '재현', '유타']\n"
     ]
    }
   ],
   "source": [
    "friends = []\n",
    "\n",
    "for i in range(5):\n",
    "    friends.append(input('친구 이름 입력 : '))\n",
    "\n",
    "print(\"친구 리스트 : {}\".format(friends))\n",
    "friends.sort()\n",
    "print(\"오름차순 정렬 : {}\".format(friends))\n",
    "friends.sort(reverse=True)\n",
    "print(\"내림차순 정렬 : {}\".format(friends))\n"
   ]
  },
  {
   "cell_type": "markdown",
   "metadata": {},
   "source": [
    "## 중복 제거 for 문"
   ]
  },
  {
   "cell_type": "code",
   "execution_count": 5,
   "metadata": {},
   "outputs": [
    {
     "name": "stdout",
     "output_type": "stream",
     "text": [
      "list : [2, 22, 7, 8, 9, 2, 7, 3, 5, 2, 7, 1, 3]\n",
      "중복 제거된 리스트 : [22, 8, 9, 5, 2, 7, 1, 3]\n"
     ]
    }
   ],
   "source": [
    "numbers = [2,22,7,8,9,2,7,3,5,2,7,1,3,]\n",
    "\n",
    "print(\"list : {}\".format(numbers))\n",
    "\n",
    "for n in numbers :\n",
    "    if numbers.count(n) >= 2:\n",
    "        numbers.remove(n)\n",
    "print(\"중복 제거된 리스트 : {}\".format(numbers))"
   ]
  },
  {
   "cell_type": "markdown",
   "metadata": {},
   "source": [
    "## 순열 만들기"
   ]
  },
  {
   "cell_type": "code",
   "execution_count": 6,
   "metadata": {},
   "outputs": [
    {
     "name": "stdout",
     "output_type": "stream",
     "text": [
      "result : [[4, 6, 7], [4, 6, 9], [4, 7, 6], [4, 7, 9], [4, 9, 6], [4, 9, 7], [6, 4, 7], [6, 4, 9], [6, 7, 4], [6, 7, 9], [6, 9, 4], [6, 9, 7], [7, 4, 6], [7, 4, 9], [7, 6, 4], [7, 6, 9], [7, 9, 4], [7, 9, 6], [9, 4, 6], [9, 4, 7], [9, 6, 4], [9, 6, 7], [9, 7, 4], [9, 7, 6]]\n",
      "4 P 3 : 24\n",
      "4 P 3 : 24\n"
     ]
    }
   ],
   "source": [
    "numbers = [4,6,7,9]\n",
    "result = []\n",
    "\n",
    "for n1 in numbers : \n",
    "    for n2 in numbers :\n",
    "        for n3 in numbers : \n",
    "            if n1 == n2 or n2 == n3 or n3 == n1:\n",
    "                continue\n",
    "        \n",
    "            result.append([n1, n2, n3])\n",
    "        \n",
    "print(\"result : {}\".format(result))\n",
    "print(\"4 P 3 : {}\".format(len(result)))\n",
    "import math\n",
    "n = len(numbers)\n",
    "r = 3\n",
    "perm = math.factorial(n) / math.factorial(n-r)\n",
    "print(\"4 P 3 : {}\".format(int(perm)))"
   ]
  },
  {
   "cell_type": "markdown",
   "metadata": {},
   "source": [
    "# Tuple을 이용한 프로그래밍"
   ]
  },
  {
   "cell_type": "code",
   "execution_count": 24,
   "metadata": {},
   "outputs": [
    {
     "name": "stdout",
     "output_type": "stream",
     "text": [
      "[2, 3, 5, 6, 8]\n",
      "[0, 1, 2, 3, 5, 6, 7, 8, 9, 12, 17]\n"
     ]
    }
   ],
   "source": [
    "tp1 = (1,3,2,6,12,5,7,8)\n",
    "tp2 = (0,5,2,9,8,6,17,3)\n",
    "\n",
    "tpSum = tp1 + tp2\n",
    "tpHap = []\n",
    "tpGyo = []\n",
    "\n",
    "for num in tpSum :\n",
    "    if num not in tpHap :\n",
    "        tpHap.append(num) \n",
    "    else :\n",
    "        tpGyo.append(num)\n",
    "tpGyo.sort()\n",
    "tpHap.sort()\n",
    "print(tpGyo)\n",
    "print(tpHap)"
   ]
  },
  {
   "cell_type": "code",
   "execution_count": 32,
   "metadata": {},
   "outputs": [
    {
     "data": {
      "text/plain": [
       "[dict_values([8])]"
      ]
     },
     "execution_count": 32,
     "metadata": {},
     "output_type": "execute_result"
    }
   ],
   "source": [
    "[fruits[0].values()]"
   ]
  },
  {
   "cell_type": "code",
   "execution_count": 33,
   "metadata": {},
   "outputs": [
    {
     "data": {
      "text/plain": [
       "[{'수박': 8}, {'참외': 12}, {'포도': 13}, {'자몽': 15}, {'사과': 17}, {'자두': 19}]"
      ]
     },
     "execution_count": 33,
     "metadata": {},
     "output_type": "execute_result"
    }
   ],
   "source": [
    "fruits = ({'수박': 8},\n",
    "          {'포도': 13},\n",
    "          {'참외': 12},\n",
    "          {'사과': 17},\n",
    "          {'자두': 19},\n",
    "          {'자몽': 15},\n",
    "         )\n",
    "fruits = list(fruits)\n",
    "\n",
    "for i in range(len(fruits)):\n",
    "    minidx = i\n",
    "    minvalue = list(fruits[i].values())[0]\n",
    "    for j in range(i+1,len(fruits)):\n",
    "        if list(fruits[j].values())[0] < minvalue:\n",
    "            minidx = j\n",
    "            minvalue = list(fruits[j].values())[0]\n",
    "    if minidx != i:\n",
    "        fruits[i], fruits[minidx] = fruits[minidx], fruits[i]\n",
    "fruits"
   ]
  },
  {
   "cell_type": "markdown",
   "metadata": {},
   "source": [
    "# Dictionary를 이용한 프로그래밍"
   ]
  },
  {
   "cell_type": "code",
   "execution_count": 35,
   "metadata": {},
   "outputs": [
    {
     "name": "stdout",
     "output_type": "stream",
     "text": [
      "국어점수 입력 :90\n",
      "영어점수 입력 :789\n",
      "수학점수 입력 :7\n",
      "과학점수 입력 :8\n",
      "국사점수 입력 :0\n",
      "과목별 점수 : {'국어': 90, '영어': 789, '수학': 7, '과학': 8, '국사': 0}\n"
     ]
    }
   ],
   "source": [
    "subject = ['국어','영어','수학','과학','국사']\n",
    "scores = {}\n",
    "\n",
    "for s in subject:\n",
    "    score = int(input(s + '점수 입력 :'))\n",
    "    scores[s] = score\n",
    "print('과목별 점수 : {}'.format(scores))\n"
   ]
  },
  {
   "cell_type": "code",
   "execution_count": 36,
   "metadata": {},
   "outputs": [
    {
     "name": "stdout",
     "output_type": "stream",
     "text": [
      "{3: (180, 60), 4: (360, 90), 5: (540, 108), 6: (720, 120), 7: (900, 128), 8: (1080, 135), 9: (1260, 140), 10: (1440, 144)}\n"
     ]
    }
   ],
   "source": [
    "dic = {}\n",
    "\n",
    "for n in range(3,11):\n",
    "    hap = 180 * (n-2)\n",
    "    theta = int(hap /n)\n",
    "    dic[n] = (hap, theta)\n",
    "print(dic)"
   ]
  },
  {
   "cell_type": "code",
   "execution_count": 37,
   "metadata": {},
   "outputs": [
    {
     "name": "stdout",
     "output_type": "stream",
     "text": [
      "{2: [1, 2], 3: [1, 3], 4: [1, 2, 4], 5: [1, 5], 6: [1, 2, 3, 6], 7: [1, 7], 8: [1, 2, 4, 8], 9: [1, 3, 9], 10: [1, 2, 5, 10]}\n"
     ]
    }
   ],
   "source": [
    "dic = {}\n",
    "\n",
    "for n1 in range(2,11):\n",
    "    tmpList = []\n",
    "    for n2 in range(1, n1+1):\n",
    "        if n1 % n2 == 0:\n",
    "            tmpList.append(n2)\n",
    "    dic[n1] = tmpList\n",
    "print(dic)"
   ]
  },
  {
   "cell_type": "code",
   "execution_count": 39,
   "metadata": {},
   "outputs": [
    {
     "name": "stdout",
     "output_type": "stream",
     "text": [
      "{0: '파이썬은', 1: '1991년', 2: '프로그래머인', 3: '귀도', 4: '반', 5: '로섬이', 6: '발표한', 7: '고급', 8: '프로그래밍', 9: '언어이다'}\n"
     ]
    }
   ],
   "source": [
    "aboutPython = '파이썬은 1991년 프로그래머인 귀도 반 로섬이 발표한 고급 프로그래밍 언어이다'\n",
    "ls = aboutPython.split()\n",
    "dic = {}\n",
    "for idx, value in enumerate(ls):\n",
    "    dic[idx] = value\n",
    "print(dic)"
   ]
  },
  {
   "cell_type": "code",
   "execution_count": 41,
   "metadata": {},
   "outputs": [
    {
     "name": "stdout",
     "output_type": "stream",
     "text": [
      "메일 입력 : aaa\n",
      "비밀번호 입력 : 1234\n",
      "메일 입력 : bbb\n",
      "비밀번호 입력 : 4566\n",
      "메일 입력 : ccc\n",
      "비밀번호 입력 : 345\n",
      "메일 입력 : ddd\n",
      "비밀번호 입력 : 345\n",
      "메일 입력 : eee\n",
      "비밀번호 입력 : 346\n",
      "aaa : 1234\n",
      "bbb : 4566\n",
      "ccc : 345\n",
      "ddd : 345\n",
      "eee : 346\n"
     ]
    }
   ],
   "source": [
    "dic = {}\n",
    "\n",
    "for i in range(5):\n",
    "    email = input('메일 입력 : ')\n",
    "    pw = input('비밀번호 입력 : ')\n",
    "    dic[email] = pw\n",
    "for key, value in dic.items():\n",
    "    print(\"{} : {}\".format(key, value))"
   ]
  }
 ],
 "metadata": {
  "kernelspec": {
   "display_name": "Python 3",
   "language": "python",
   "name": "python3"
  },
  "language_info": {
   "codemirror_mode": {
    "name": "ipython",
    "version": 3
   },
   "file_extension": ".py",
   "mimetype": "text/x-python",
   "name": "python",
   "nbconvert_exporter": "python",
   "pygments_lexer": "ipython3",
   "version": "3.8.5"
  },
  "toc": {
   "base_numbering": 1,
   "nav_menu": {},
   "number_sections": false,
   "sideBar": true,
   "skip_h1_title": false,
   "title_cell": "Table of Contents",
   "title_sidebar": "Contents",
   "toc_cell": false,
   "toc_position": {},
   "toc_section_display": true,
   "toc_window_display": false
  }
 },
 "nbformat": 4,
 "nbformat_minor": 4
}
