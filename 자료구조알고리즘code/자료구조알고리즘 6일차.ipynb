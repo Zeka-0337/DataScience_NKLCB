{
 "cells": [
  {
   "cell_type": "markdown",
   "metadata": {},
   "source": [
    "# 약수와 소수"
   ]
  },
  {
   "cell_type": "code",
   "execution_count": 1,
   "metadata": {},
   "outputs": [],
   "source": [
    "import random"
   ]
  },
  {
   "cell_type": "code",
   "execution_count": 33,
   "metadata": {},
   "outputs": [],
   "source": [
    "rNum = random.randint(100,1000)"
   ]
  },
  {
   "cell_type": "code",
   "execution_count": 34,
   "metadata": {},
   "outputs": [
    {
     "name": "stdout",
     "output_type": "stream",
     "text": [
      "소인수 : 5\n",
      "소인수 : 97\n"
     ]
    }
   ],
   "source": [
    "ls = []\n",
    "for i in range(1,rNum+1):\n",
    "    both = 0\n",
    "    if rNum % i ==0 :\n",
    "        ls.append(i)\n",
    "        both += 1\n",
    "    if i != 1:\n",
    "        flag = True\n",
    "        for n in range(2,i):\n",
    "            if i % n == 0:\n",
    "                flag = False\n",
    "                break\n",
    "        if (flag) :\n",
    "#             print(\"소수 : {}\".format(i))\n",
    "            both+=1\n",
    "    if both == 2:\n",
    "        print(\"소인수 : {}\".format(i))\n",
    "            \n",
    "        "
   ]
  },
  {
   "cell_type": "code",
   "execution_count": 35,
   "metadata": {},
   "outputs": [
    {
     "data": {
      "text/plain": [
       "485"
      ]
     },
     "execution_count": 35,
     "metadata": {},
     "output_type": "execute_result"
    }
   ],
   "source": [
    "rNum"
   ]
  },
  {
   "cell_type": "markdown",
   "metadata": {},
   "source": [
    "# 소수와 소인수분해"
   ]
  },
  {
   "cell_type": "code",
   "execution_count": 40,
   "metadata": {},
   "outputs": [
    {
     "name": "stdout",
     "output_type": "stream",
     "text": [
      "rNum : 380\n",
      "소인수 : 2\n",
      "소인수 : 2\n",
      "소인수 : 5\n",
      "소인수 : 19\n"
     ]
    }
   ],
   "source": [
    "import random\n",
    "\n",
    "rNum = random.randint(100,1000)\n",
    "print(\"rNum : {}\".format(rNum))\n",
    "\n",
    "ls = []\n",
    "n = 2\n",
    "while n <= rNum:\n",
    "    if rNum % n == 0:\n",
    "        print(\"소인수 : {}\".format(n))\n",
    "        ls.append(n)\n",
    "        rNum /= n\n",
    "    else:\n",
    "        n += 1"
   ]
  },
  {
   "cell_type": "code",
   "execution_count": 42,
   "metadata": {},
   "outputs": [
    {
     "name": "stdout",
     "output_type": "stream",
     "text": [
      "2\n",
      "1\n",
      "1\n"
     ]
    }
   ],
   "source": [
    "tempNum = 0\n",
    "for item in ls:\n",
    "    if tempNum != item :\n",
    "        print(ls.count(item))\n",
    "        tempNum = item"
   ]
  },
  {
   "cell_type": "markdown",
   "metadata": {},
   "source": [
    "# 최대공약수"
   ]
  },
  {
   "cell_type": "code",
   "execution_count": 5,
   "metadata": {},
   "outputs": [
    {
     "name": "stdout",
     "output_type": "stream",
     "text": [
      "rNum1 : 367, rNum2 : 565\n",
      "공약수 : 1\n",
      "최대공약수 : 1\n",
      "367과 565는 서로소\n"
     ]
    }
   ],
   "source": [
    "rNum1 = random.randint(100,1000)\n",
    "rNum2 = random.randint(100,1000)\n",
    "\n",
    "print(\"rNum1 : {}, rNum2 : {}\".format(rNum1, rNum2))\n",
    "\n",
    "maxNum = 0\n",
    "for n in range(1,min(rNum1, rNum2)):\n",
    "    if rNum1 % n ==0 and rNum2 % n == 0:\n",
    "        print(\"공약수 : {}\".format(n))\n",
    "        maxNum = n\n",
    "\n",
    "print(\"최대공약수 : {}\".format(maxNum))\n",
    "if maxNum == 1:\n",
    "    print(\"{}과 {}는 서로소\".format(rNum1, rNum2))"
   ]
  },
  {
   "cell_type": "markdown",
   "metadata": {},
   "source": [
    "# 최소공배수\n",
    "- 공배수 중 가장 작은 수 "
   ]
  },
  {
   "cell_type": "markdown",
   "metadata": {},
   "source": [
    "100부터 1000사이의 2개의 난수에 대해서 최대공약수와 최소공배수를 출력하는 프로그램을 만들어보자"
   ]
  },
  {
   "cell_type": "code",
   "execution_count": 29,
   "metadata": {},
   "outputs": [
    {
     "name": "stdout",
     "output_type": "stream",
     "text": [
      "rNum1 : 970, rNum2 : 517\n",
      "공약수 : 1\n",
      "최대공약수 : 1\n",
      "최소공배수 : 501490\n"
     ]
    }
   ],
   "source": [
    "rNum1 = random.randint(100,1000)\n",
    "rNum2 = random.randint(100,1000)\n",
    "\n",
    "print(\"rNum1 : {}, rNum2 : {}\".format(rNum1, rNum2))\n",
    "\n",
    "maxNum = 0\n",
    "for n in range(1,min(rNum1, rNum2)):\n",
    "    if rNum1 % n ==0 and rNum2 % n == 0:\n",
    "        print(\"공약수 : {}\".format(n))\n",
    "        maxNum = n\n",
    "\n",
    "print(\"최대공약수 : {}\".format(maxNum))\n",
    "print(\"최소공배수 : {}\".format(rNum1* rNum2//maxNum))"
   ]
  },
  {
   "cell_type": "markdown",
   "metadata": {},
   "source": [
    "# 진법\n",
    "- 2진수, 8진수, 10진수, 16진수"
   ]
  },
  {
   "cell_type": "markdown",
   "metadata": {},
   "source": [
    "- 10진수 > 2, 8, 16진수 변환\n",
    "- x진수 > 10진수\n",
    "- x진수 > y진수"
   ]
  },
  {
   "cell_type": "code",
   "execution_count": 32,
   "metadata": {},
   "outputs": [
    {
     "name": "stdout",
     "output_type": "stream",
     "text": [
      "10진수 입력 : 10\n",
      "2진수 : 0b1010\n",
      "8진수 : 0o12\n",
      "16진수 : 0xa\n",
      "2진수 :  21\n"
     ]
    }
   ],
   "source": [
    "dNum = int(input(\"10진수 입력 : \"))\n",
    "\n",
    "# 10진수 > 2, 8, 16진수 변환\n",
    "print(\"2진수 : {}\".format(bin(dNum)))\n",
    "print(\"8진수 : {}\".format(oct(dNum)))\n",
    "print(\"16진수 : {}\".format(hex(dNum)))\n",
    "\n",
    "# x진수 > 10진수\n",
    "print(\"2진수 : \", int('0b10101', 2))"
   ]
  },
  {
   "cell_type": "markdown",
   "metadata": {},
   "source": [
    "# 등차수열"
   ]
  },
  {
   "cell_type": "code",
   "execution_count": 38,
   "metadata": {},
   "outputs": [
    {
     "name": "stdout",
     "output_type": "stream",
     "text": [
      "a1 입력 : 2\n",
      "d 입력 : 2\n",
      "N 입력 : 10\n",
      "A_n : 20, S_n : 110\n"
     ]
    }
   ],
   "source": [
    "inputa1 = int(input(\"a1 입력 : \"))\n",
    "inputD = int(input(\"d 입력 : \"))\n",
    "inputN = int(input(\"N 입력 : \"))\n",
    "\n",
    "# valueN = 0\n",
    "# sumN = 0\n",
    "# n = 1\n",
    "# while n <= inputN:\n",
    "    \n",
    "#     if n == 1:\n",
    "#         valueN = inputa1\n",
    "#         sumN += valueN\n",
    "#         print(\"{}항의 값: {}\".format(n, valueN))\n",
    "#         print(\"{}항까지의 합 : {}\".format(n, sumN))\n",
    "#         n += 1\n",
    "    \n",
    "#     valueN += inputD\n",
    "#     sumN += valueN\n",
    "#     print(\"{}항의 값: {}\".format(n, valueN))\n",
    "#     print(\"{}항까지의 합 : {}\".format(n, sumN))\n",
    "#     n += 1\n",
    "\n",
    "a_n = inputa1 + (inputN-1) * inputD\n",
    "s_n = (2* inputa1 + (inputN-1) * inputD) /2 * inputN\n",
    "print(\"A_n : {}, S_n : {}\".format(a_n, int(s_n)))"
   ]
  },
  {
   "cell_type": "markdown",
   "metadata": {},
   "source": [
    "# 등비수열"
   ]
  },
  {
   "cell_type": "code",
   "execution_count": 40,
   "metadata": {},
   "outputs": [
    {
     "name": "stdout",
     "output_type": "stream",
     "text": [
      "a1 입력 : 2\n",
      "d 입력 : 2\n",
      "N 입력 : 10\n",
      "A_n : 1024, S_n : 2046.0\n"
     ]
    }
   ],
   "source": [
    "inputa1 = int(input(\"a1 입력 : \"))\n",
    "inputR = int(input(\"d 입력 : \"))\n",
    "inputN = int(input(\"N 입력 : \"))\n",
    "\n",
    "# valueN = 0\n",
    "# sumN = 0\n",
    "# n = 1\n",
    "# while n <= inputN:\n",
    "    \n",
    "#     if n == 1:\n",
    "#         valueN = inputa1\n",
    "#         sumN += valueN\n",
    "#         print(\"{}항의 값: {}\".format(n, valueN))\n",
    "#         print(\"{}항까지의 합 : {}\".format(n, sumN))\n",
    "#         n += 1\n",
    "    \n",
    "#     valueN *= inputR\n",
    "#     sumN += valueN\n",
    "#     print(\"{}항의 값: {}\".format(n, valueN))\n",
    "#     print(\"{}항까지의 합 : {}\".format(n, sumN))\n",
    "#     n += 1\n",
    "\n",
    "a_n = inputa1 * inputR **(inputN-1)\n",
    "s_n = inputa1 * (inputR**inputN -1) / (inputR -1)\n",
    "print(\"A_n : {}, S_n : {}\".format(a_n, s_n))"
   ]
  },
  {
   "cell_type": "markdown",
   "metadata": {},
   "source": [
    "# 계차수열 "
   ]
  },
  {
   "cell_type": "code",
   "execution_count": 42,
   "metadata": {},
   "outputs": [],
   "source": [
    "# a1 = int(input(\"a1 입력 : \"))\n",
    "# N = int(input(\"N 입력 : \"))"
   ]
  },
  {
   "cell_type": "markdown",
   "metadata": {},
   "source": [
    "# 피보나치수열"
   ]
  },
  {
   "cell_type": "code",
   "execution_count": 47,
   "metadata": {},
   "outputs": [
    {
     "name": "stdout",
     "output_type": "stream",
     "text": [
      "N 입력 : 10\n",
      "10번째 피보나치 수열 : 55\n",
      "10번째 피보나치 수열의 합 : 143\n"
     ]
    }
   ],
   "source": [
    "inputN = int(input(\"N 입력 : \"))\n",
    "sumN = 0\n",
    "for i in range(1,inputN+1) :\n",
    "    if i == 1 or i == 2:\n",
    "        prev = 1\n",
    "        a_n = 1\n",
    "    else : \n",
    "        tmp = a_n\n",
    "        a_n += prev\n",
    "        prev = tmp\n",
    "        del tmp\n",
    "    sumN += a_n\n",
    "print(\"{}번째 피보나치 수열 : {}\".format(inputN, a_n))\n",
    "print(\"{}번째 피보나치 수열의 합 : {}\".format(inputN, sumN))"
   ]
  },
  {
   "cell_type": "markdown",
   "metadata": {},
   "source": [
    "# 군수열 (군으로 묶어 규칙성 찾기)"
   ]
  },
  {
   "cell_type": "code",
   "execution_count": 59,
   "metadata": {},
   "outputs": [
    {
     "name": "stdout",
     "output_type": "stream",
     "text": [
      "1/1 \n",
      "1/2 2/1 \n",
      "1/3 2/2 3/1 \n",
      "1/4 2/3 3/2 4/1 \n",
      "1/5 2/4 3/3 4/2 5/1 \n",
      "1/6 2/5 3/4 4/3 5/2 6/1 \n",
      "1/7 2/6 3/5 4/4 5/3 6/2 7/1 \n",
      "1/8 2/7 3/6 4/5 5/4 6/3 7/2 8/1 \n",
      "1/9 2/8 3/7 4/6 5/5 6/4 7/3 8/2 9/1 \n",
      "1/10 2/9 3/8 4/7 5/6 6/5 7/4 8/3 9/2 10/1 \n",
      "valueN : 10.0, N : 56, sumN : 105.81190476190476\n"
     ]
    }
   ],
   "source": [
    "flag = True\n",
    "n = 1\n",
    "nCnt = 1\n",
    "sumN = 0\n",
    "while flag :\n",
    "    for i in range(1,n+1):\n",
    "        a_n = i/(n-i+1)\n",
    "        print(\"{}/{}\".format(i, n-i+1), end=' ')\n",
    "        sumN += a_n\n",
    "        nCnt +=1\n",
    "        if sumN > 100:\n",
    "            flag = False\n",
    "            break  \n",
    "    print()\n",
    "    n+=1\n",
    "print(\"valueN : {}, N : {}, sumN : {}\".format(a_n, nCnt,sumN))"
   ]
  },
  {
   "cell_type": "markdown",
   "metadata": {},
   "source": [
    "# 순열"
   ]
  },
  {
   "cell_type": "code",
   "execution_count": 60,
   "metadata": {},
   "outputs": [],
   "source": [
    "import math"
   ]
  },
  {
   "cell_type": "code",
   "execution_count": 64,
   "metadata": {},
   "outputs": [
    {
     "name": "stdout",
     "output_type": "stream",
     "text": [
      "9\n",
      "4\n"
     ]
    },
    {
     "data": {
      "text/plain": [
       "3024"
      ]
     },
     "execution_count": 64,
     "metadata": {},
     "output_type": "execute_result"
    }
   ],
   "source": [
    "N = int(input())\n",
    "R = int(input())\n",
    "int(math.factorial(N) / math.factorial(N-R))"
   ]
  },
  {
   "cell_type": "code",
   "execution_count": null,
   "metadata": {},
   "outputs": [],
   "source": []
  }
 ],
 "metadata": {
  "kernelspec": {
   "display_name": "Python 3",
   "language": "python",
   "name": "python3"
  },
  "language_info": {
   "codemirror_mode": {
    "name": "ipython",
    "version": 3
   },
   "file_extension": ".py",
   "mimetype": "text/x-python",
   "name": "python",
   "nbconvert_exporter": "python",
   "pygments_lexer": "ipython3",
   "version": "3.8.5"
  },
  "toc": {
   "base_numbering": 1,
   "nav_menu": {},
   "number_sections": false,
   "sideBar": true,
   "skip_h1_title": false,
   "title_cell": "Table of Contents",
   "title_sidebar": "Contents",
   "toc_cell": false,
   "toc_position": {},
   "toc_section_display": true,
   "toc_window_display": false
  }
 },
 "nbformat": 4,
 "nbformat_minor": 4
}
