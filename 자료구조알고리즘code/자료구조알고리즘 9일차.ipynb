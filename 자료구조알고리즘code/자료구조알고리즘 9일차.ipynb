{
 "cells": [
  {
   "cell_type": "markdown",
   "metadata": {},
   "source": [
    "# 모듈"
   ]
  },
  {
   "cell_type": "markdown",
   "metadata": {},
   "source": [
    "## 모듈의 사용"
   ]
  },
  {
   "cell_type": "code",
   "execution_count": 28,
   "metadata": {},
   "outputs": [
    {
     "name": "stdout",
     "output_type": "stream",
     "text": [
      "rNum : 3\n",
      "rNums : [69, 93, 41, 20, 61, 91, 54, 96, 44, 63]\n"
     ]
    }
   ],
   "source": [
    "import random\n",
    "\n",
    "rNum = random.randint(1,10)\n",
    "print(\"rNum : {}\".format(rNum))\n",
    "\n",
    "rNums = random.sample(range(101),10)\n",
    "print(\"rNums : {}\".format(rNums))"
   ]
  },
  {
   "cell_type": "markdown",
   "metadata": {},
   "source": [
    "## 모듈 제작"
   ]
  },
  {
   "cell_type": "code",
   "execution_count": 30,
   "metadata": {},
   "outputs": [
    {
     "name": "stdout",
     "output_type": "stream",
     "text": [
      "덧셈 결과 : 30\n",
      "뺄셈 결과 : -10\n",
      "곱셈 결과 : 200\n",
      "나눗셈 결과 : 0.5\n"
     ]
    }
   ],
   "source": [
    "import calculator\n",
    "\n",
    "calculator.add(10,20)\n",
    "calculator.sub(10,20)\n",
    "calculator.mul(10,20)\n",
    "calculator.div(10,20)\n"
   ]
  },
  {
   "cell_type": "code",
   "execution_count": 37,
   "metadata": {},
   "outputs": [
    {
     "data": {
      "text/plain": [
       "[36, 29, 38, 10, 5, 27]"
      ]
     },
     "execution_count": 37,
     "metadata": {},
     "output_type": "execute_result"
    }
   ],
   "source": [
    "import Lotto\n",
    "\n",
    "Lotto.getLotto()"
   ]
  },
  {
   "cell_type": "markdown",
   "metadata": {},
   "source": [
    "## `__name__` 전역변수"
   ]
  },
  {
   "cell_type": "markdown",
   "metadata": {},
   "source": [
    "# 클래스"
   ]
  },
  {
   "cell_type": "markdown",
   "metadata": {},
   "source": [
    "## 클래스만들기"
   ]
  },
  {
   "cell_type": "code",
   "execution_count": 39,
   "metadata": {},
   "outputs": [],
   "source": [
    "class Car:\n",
    "    def __init__(self,color, length):\n",
    "        self.color = color\n",
    "        self.length = length\n",
    "        \n",
    "    def doStop(self):\n",
    "        print(\"Stop!\")\n",
    "        \n",
    "    def doStart(self):\n",
    "        print(\"Start!\")\n",
    "    \n",
    "    def print(self):\n",
    "        print(self.color)\n",
    "        print(self.length)"
   ]
  },
  {
   "cell_type": "code",
   "execution_count": 40,
   "metadata": {},
   "outputs": [
    {
     "name": "stdout",
     "output_type": "stream",
     "text": [
      "red\n",
      "200\n"
     ]
    }
   ],
   "source": [
    "car1 = Car('red',200)\n",
    "car1.print()"
   ]
  },
  {
   "cell_type": "markdown",
   "metadata": {},
   "source": [
    "# 예외"
   ]
  },
  {
   "cell_type": "markdown",
   "metadata": {},
   "source": [
    "## 예외처리 : try except 위치가 중요"
   ]
  },
  {
   "cell_type": "code",
   "execution_count": 41,
   "metadata": {},
   "outputs": [
    {
     "name": "stdout",
     "output_type": "stream",
     "text": [
      "예외가 발생했습니다만, 프로그램 실행에는 문제가 없습니다\n",
      "0\n",
      "10\n",
      "10\n"
     ]
    }
   ],
   "source": [
    "n1 = 10\n",
    "n2 = 0\n",
    "\n",
    "try :\n",
    "    print(n1 / n2)\n",
    "except :\n",
    "    print(\"예외가 발생했습니다만, 프로그램 실행에는 문제가 없습니다\")\n",
    "print(n1 * n2)\n",
    "print(n1 + n2)\n",
    "print(n1 - n2)"
   ]
  },
  {
   "cell_type": "code",
   "execution_count": 43,
   "metadata": {},
   "outputs": [
    {
     "name": "stdout",
     "output_type": "stream",
     "text": [
      "input number:1\n",
      "input number:dfg\n",
      "숫자를 입력해주십시오\n",
      "input number:af\n",
      "숫자를 입력해주십시오\n",
      "input number:asd\n",
      "숫자를 입력해주십시오\n",
      "input number:s\n",
      "숫자를 입력해주십시오\n",
      "input number:sdaf\n",
      "숫자를 입력해주십시오\n",
      "input number:21\n",
      "input number:\n",
      "숫자를 입력해주십시오\n",
      "input number:fg\n",
      "숫자를 입력해주십시오\n",
      "input number:fdg\n",
      "숫자를 입력해주십시오\n",
      "input number:\n",
      "숫자를 입력해주십시오\n",
      "input number:df23\n",
      "숫자를 입력해주십시오\n",
      "input number:df\n",
      "숫자를 입력해주십시오\n",
      "input number:23\n",
      "input number:3\n",
      "input number:23\n",
      "nums : [1, 21, 23, 3, 23]\n"
     ]
    }
   ],
   "source": [
    "nums = []\n",
    "\n",
    "n = 1\n",
    "while n < 6:\n",
    "    try :\n",
    "        num = int(input('input number:'))\n",
    "    except:\n",
    "        print(\"숫자를 입력해주십시오\")\n",
    "        continue\n",
    "    nums.append(num)\n",
    "    n+=1\n",
    "    \n",
    "print('nums : {}'.format(nums))"
   ]
  },
  {
   "cell_type": "markdown",
   "metadata": {},
   "source": [
    "## try / except / else"
   ]
  },
  {
   "cell_type": "markdown",
   "metadata": {},
   "source": [
    "### else : 예외가 발생하지 않는 경우 실행하는 구문이다\n",
    "- try, except를 썼을 때만 사용이 가능하다."
   ]
  },
  {
   "cell_type": "code",
   "execution_count": null,
   "metadata": {},
   "outputs": [],
   "source": [
    "nums = []\n",
    "n = 1\n",
    "while n < 6 :\n",
    "    try :\n",
    "        num = int(input('input number :'))\n",
    "        \n",
    "    except:\n",
    "        print('예외 발생')\n",
    "        continue\n",
    "        \n",
    "    else : \n",
    "        if num % 2 == 0:\n",
    "            nums.append(num)\n",
    "            n +=1\n",
    "        else:\n",
    "            print(\"입력한 숫자는 홀수 입니다. 다시 입력하세요\")\n",
    "            \n",
    "print('nums : {}'.format(nums))"
   ]
  },
  {
   "cell_type": "markdown",
   "metadata": {},
   "source": [
    "## finally\n",
    ": 예외 발생과 상관없이 항상 실행한다.\n",
    "- 외부 리소스 해제 등"
   ]
  },
  {
   "cell_type": "code",
   "execution_count": 2,
   "metadata": {},
   "outputs": [
    {
     "name": "stdout",
     "output_type": "stream",
     "text": [
      "input number :가나다\n",
      "exception\n",
      "input Data : 가나다\n"
     ]
    }
   ],
   "source": [
    "try:\n",
    "    inputData = input('input number :')\n",
    "    numInt = int(inputData)\n",
    "except:\n",
    "    print(\"exception\")\n",
    "else:\n",
    "    if numInt % 2 ==0:\n",
    "        print(\"even number\")\n",
    "        \n",
    "    else :\n",
    "        print('odd Number')\n",
    "finally:\n",
    "    print(\"inputData : {}\".format(inputData))"
   ]
  },
  {
   "cell_type": "markdown",
   "metadata": {},
   "source": [
    "## Exception 클래스"
   ]
  },
  {
   "cell_type": "code",
   "execution_count": 6,
   "metadata": {},
   "outputs": [
    {
     "name": "stdout",
     "output_type": "stream",
     "text": [
      "input number :0\n",
      "exception : division by zero\n"
     ]
    }
   ],
   "source": [
    "try:\n",
    "    inputData = int(input('input number :'))\n",
    "    print(10/inputData)\n",
    "except Exception as e:\n",
    "    print(\"exception : {}\".format(e))"
   ]
  },
  {
   "cell_type": "code",
   "execution_count": 8,
   "metadata": {},
   "outputs": [
    {
     "name": "stdout",
     "output_type": "stream",
     "text": [
      "0으로 나눌 수 없습니다\n"
     ]
    }
   ],
   "source": [
    "def div(n1, n2):\n",
    "    if n2 != 0 :\n",
    "        print(n1/n2)\n",
    "    else:\n",
    "        raise Exception('0으로 나눌 수 없습니다')\n",
    "n1 = 10\n",
    "n2 = 0\n",
    "try :\n",
    "    div(n1,n2)\n",
    "except Exception as e:\n",
    "    print(e)"
   ]
  },
  {
   "cell_type": "markdown",
   "metadata": {},
   "source": [
    "### e.args[0]"
   ]
  },
  {
   "cell_type": "code",
   "execution_count": 9,
   "metadata": {},
   "outputs": [
    {
     "name": "stdout",
     "output_type": "stream",
     "text": [
      "0은 사용할 수 없습니다\n"
     ]
    }
   ],
   "source": [
    "class NotZero(Exception):\n",
    "    def __init__(self,n):\n",
    "        super().__init__('{}은 사용할 수 없습니다'.format(n))\n",
    "\n",
    "def div(n1, n2):\n",
    "    if n2 == 0:\n",
    "        raise NotZero(n2)\n",
    "    else:\n",
    "        print(n1/n2)\n",
    "num1 = 10\n",
    "num2 = 0\n",
    "\n",
    "try:\n",
    "    div(num1,num2)\n",
    "except Exception as e:\n",
    "    print(e)\n",
    "        "
   ]
  },
  {
   "cell_type": "code",
   "execution_count": 10,
   "metadata": {},
   "outputs": [
    {
     "ename": "SyntaxError",
     "evalue": "invalid syntax (<ipython-input-10-e2ebda4da56b>, line 1)",
     "output_type": "error",
     "traceback": [
      "\u001b[1;36m  File \u001b[1;32m\"<ipython-input-10-e2ebda4da56b>\"\u001b[1;36m, line \u001b[1;32m1\u001b[0m\n\u001b[1;33m    def func()\u001b[0m\n\u001b[1;37m              ^\u001b[0m\n\u001b[1;31mSyntaxError\u001b[0m\u001b[1;31m:\u001b[0m invalid syntax\n"
     ]
    }
   ],
   "source": [
    "def func()\n",
    "    print(\"hi\")"
   ]
  },
  {
   "cell_type": "code",
   "execution_count": null,
   "metadata": {},
   "outputs": [],
   "source": []
  }
 ],
 "metadata": {
  "kernelspec": {
   "display_name": "Python 3",
   "language": "python",
   "name": "python3"
  },
  "language_info": {
   "codemirror_mode": {
    "name": "ipython",
    "version": 3
   },
   "file_extension": ".py",
   "mimetype": "text/x-python",
   "name": "python",
   "nbconvert_exporter": "python",
   "pygments_lexer": "ipython3",
   "version": "3.8.5"
  },
  "toc": {
   "base_numbering": 1,
   "nav_menu": {},
   "number_sections": false,
   "sideBar": true,
   "skip_h1_title": false,
   "title_cell": "Table of Contents",
   "title_sidebar": "Contents",
   "toc_cell": false,
   "toc_position": {},
   "toc_section_display": true,
   "toc_window_display": false
  }
 },
 "nbformat": 4,
 "nbformat_minor": 4
}
